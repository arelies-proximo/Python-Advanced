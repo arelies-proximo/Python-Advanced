{
  "nbformat": 4,
  "nbformat_minor": 0,
  "metadata": {
    "colab": {
      "provenance": [],
      "authorship_tag": "ABX9TyOZidOqbmZsBDzYNlWB5Gdi",
      "include_colab_link": true
    },
    "kernelspec": {
      "name": "python3",
      "display_name": "Python 3"
    },
    "language_info": {
      "name": "python"
    }
  },
  "cells": [
    {
      "cell_type": "markdown",
      "metadata": {
        "id": "view-in-github",
        "colab_type": "text"
      },
      "source": [
        "<a href=\"https://colab.research.google.com/github/arelies-proximo/Python-Advanced/blob/main/Advance_Python%20(Iterators%2C%20Generators%2C%20Set/dict%20comprehension%2C%20Regex%2C%20Pickling%2C%20Partial%20n%20Nested%20Function%2C%20Decorators%2C%20Map%2C%20Reduce.ipynb\" target=\"_parent\"><img src=\"https://colab.research.google.com/assets/colab-badge.svg\" alt=\"Open In Colab\"/></a>"
      ]
    },
    {
      "cell_type": "markdown",
      "source": [
        "# ITERATORS AND GENERATORS"
      ],
      "metadata": {
        "id": "7OnqyCgfKyaT"
      }
    },
    {
      "cell_type": "code",
      "execution_count": null,
      "metadata": {
        "colab": {
          "base_uri": "https://localhost:8080/"
        },
        "id": "zzNfvWLDalOP",
        "outputId": "e1092548-3cdf-47e8-a5c3-0156e431be91"
      },
      "outputs": [
        {
          "output_type": "execute_result",
          "data": {
            "text/plain": [
              "<list_iterator at 0x7f3bf3794250>"
            ]
          },
          "metadata": {},
          "execution_count": 14
        }
      ],
      "source": [
        "#Iterators\n",
        "l = [1,2,3,]\n",
        "\n",
        "i1 = iter(l)\n",
        "i1"
      ]
    },
    {
      "cell_type": "code",
      "source": [
        "next(i1)"
      ],
      "metadata": {
        "colab": {
          "base_uri": "https://localhost:8080/"
        },
        "id": "h6Xl4bPncpD3",
        "outputId": "86fe70b8-0b10-417c-a3b9-5496729d4890"
      },
      "execution_count": null,
      "outputs": [
        {
          "output_type": "execute_result",
          "data": {
            "text/plain": [
              "1"
            ]
          },
          "metadata": {},
          "execution_count": 15
        }
      ]
    },
    {
      "cell_type": "code",
      "source": [
        "next(i1)"
      ],
      "metadata": {
        "colab": {
          "base_uri": "https://localhost:8080/"
        },
        "id": "9IzzlAyIcs76",
        "outputId": "ba420933-3bcd-4413-f97a-6088d062c600"
      },
      "execution_count": null,
      "outputs": [
        {
          "output_type": "execute_result",
          "data": {
            "text/plain": [
              "2"
            ]
          },
          "metadata": {},
          "execution_count": 16
        }
      ]
    },
    {
      "cell_type": "code",
      "source": [
        "print(next(i1))"
      ],
      "metadata": {
        "colab": {
          "base_uri": "https://localhost:8080/"
        },
        "id": "DJbra3zucuCV",
        "outputId": "8dcd997f-188a-493c-cf06-75ec015d33a1"
      },
      "execution_count": null,
      "outputs": [
        {
          "output_type": "stream",
          "name": "stdout",
          "text": [
            "3\n"
          ]
        }
      ]
    },
    {
      "cell_type": "code",
      "source": [
        "next(i1)"
      ],
      "metadata": {
        "colab": {
          "base_uri": "https://localhost:8080/",
          "height": 166
        },
        "id": "dJMoB3Tmcv6j",
        "outputId": "aa2e8e56-ff9d-4099-a4b4-8b6fdaee6182"
      },
      "execution_count": null,
      "outputs": [
        {
          "output_type": "error",
          "ename": "StopIteration",
          "evalue": "ignored",
          "traceback": [
            "\u001b[0;31m---------------------------------------------------------------------------\u001b[0m",
            "\u001b[0;31mStopIteration\u001b[0m                             Traceback (most recent call last)",
            "\u001b[0;32m<ipython-input-18-cc9ef6da1ea7>\u001b[0m in \u001b[0;36m<module>\u001b[0;34m\u001b[0m\n\u001b[0;32m----> 1\u001b[0;31m \u001b[0mnext\u001b[0m\u001b[0;34m(\u001b[0m\u001b[0mi1\u001b[0m\u001b[0;34m)\u001b[0m\u001b[0;34m\u001b[0m\u001b[0;34m\u001b[0m\u001b[0m\n\u001b[0m",
            "\u001b[0;31mStopIteration\u001b[0m: "
          ]
        }
      ]
    },
    {
      "cell_type": "code",
      "source": [
        "#Internal working of for loop\n",
        "l = [1,2,3,4]\n",
        "\n",
        "iter_obj = iter(l)\n",
        "\n",
        "while True: #infinite loop\n",
        "  try:\n",
        "    item = next(iter_obj)\n",
        "    print(item)\n",
        "  except StopIteration:\n",
        "    break\n"
      ],
      "metadata": {
        "colab": {
          "base_uri": "https://localhost:8080/"
        },
        "id": "LAxLgen7dANw",
        "outputId": "7a8a7aa6-2514-489c-8cfc-7d1735159f4c"
      },
      "execution_count": null,
      "outputs": [
        {
          "output_type": "stream",
          "name": "stdout",
          "text": [
            "1\n",
            "2\n",
            "3\n",
            "4\n"
          ]
        }
      ]
    },
    {
      "cell_type": "code",
      "source": [
        "#Writing Generators\n",
        "\n",
        "def gen(d):\n",
        "  for x,y in d.items():\n",
        "    yield x,y\n",
        "\n",
        "a = {1:\"Value1\", 2:\"Value 2\", 3:'The Last Value'}\n",
        "\n",
        "#generator object for the function\n",
        "obj = gen(a)\n",
        "\n",
        "print(obj)\n",
        "\n",
        "next(obj)"
      ],
      "metadata": {
        "colab": {
          "base_uri": "https://localhost:8080/"
        },
        "id": "W19tkIQJeVBR",
        "outputId": "b655999c-353b-4f4b-9339-45339de795a8"
      },
      "execution_count": null,
      "outputs": [
        {
          "output_type": "stream",
          "name": "stdout",
          "text": [
            "<generator object gen at 0x7f3beb3aceb0>\n"
          ]
        },
        {
          "output_type": "execute_result",
          "data": {
            "text/plain": [
              "(1, 'Value1')"
            ]
          },
          "metadata": {},
          "execution_count": 20
        }
      ]
    },
    {
      "cell_type": "code",
      "source": [
        "next(obj)"
      ],
      "metadata": {
        "colab": {
          "base_uri": "https://localhost:8080/"
        },
        "id": "KtNMSyvpiCox",
        "outputId": "f51b7661-845d-46cc-da0e-4c00f82bc7c7"
      },
      "execution_count": null,
      "outputs": [
        {
          "output_type": "execute_result",
          "data": {
            "text/plain": [
              "(2, 'Value 2')"
            ]
          },
          "metadata": {},
          "execution_count": 21
        }
      ]
    },
    {
      "cell_type": "code",
      "source": [
        "next(obj)"
      ],
      "metadata": {
        "colab": {
          "base_uri": "https://localhost:8080/"
        },
        "id": "D0wI9mlFiEF4",
        "outputId": "c719fc0e-2101-4fa1-ee69-41f22fa9a39b"
      },
      "execution_count": null,
      "outputs": [
        {
          "output_type": "execute_result",
          "data": {
            "text/plain": [
              "(3, 'The Last Value')"
            ]
          },
          "metadata": {},
          "execution_count": 22
        }
      ]
    },
    {
      "cell_type": "code",
      "source": [
        "#GENEARTOR PIPELINE\n",
        "def fibonacci_numbers(nums):\n",
        "    x, y = 0, 1\n",
        "    for _ in range(nums):\n",
        "      x, y = y, x+y\n",
        "      print(\"x: \",x)\n",
        "      yield x\n",
        "\n",
        "def square(nums):\n",
        "    for num in nums:\n",
        "      print(\"num**2: \",num**2)\n",
        "      yield num**2\n",
        "\n",
        "\n",
        "print(square(fibonacci_numbers(10)))\n",
        "\n",
        "print(\"\\nSum: \",sum(square(fibonacci_numbers(10))))"
      ],
      "metadata": {
        "colab": {
          "base_uri": "https://localhost:8080/"
        },
        "id": "xwDcoC1PiH9O",
        "outputId": "9e0eb2bd-c698-4c18-b094-9dba4a584183"
      },
      "execution_count": null,
      "outputs": [
        {
          "output_type": "stream",
          "name": "stdout",
          "text": [
            "<generator object square at 0x7f3beb346040>\n",
            "x:  1\n",
            "num**2:  1\n",
            "x:  1\n",
            "num**2:  1\n",
            "x:  2\n",
            "num**2:  4\n",
            "x:  3\n",
            "num**2:  9\n",
            "x:  5\n",
            "num**2:  25\n",
            "x:  8\n",
            "num**2:  64\n",
            "x:  13\n",
            "num**2:  169\n",
            "x:  21\n",
            "num**2:  441\n",
            "x:  34\n",
            "num**2:  1156\n",
            "x:  55\n",
            "num**2:  3025\n",
            "\n",
            "Sum:  4895\n"
          ]
        }
      ]
    },
    {
      "cell_type": "code",
      "source": [
        "#generator example\n",
        "\n",
        "def ex(a):\n",
        "  yield a\n",
        "  a *= a\n",
        "  yield a\n",
        "\n",
        "obj = ex(9)\n",
        "print(next(obj))\n",
        "\n",
        "print(next(obj))\n",
        "\n",
        "print(next(obj))"
      ],
      "metadata": {
        "colab": {
          "base_uri": "https://localhost:8080/",
          "height": 235
        },
        "id": "PjSNhxUGjGLN",
        "outputId": "512cbb22-d54a-4048-aa5e-b2ad36487262"
      },
      "execution_count": null,
      "outputs": [
        {
          "output_type": "stream",
          "name": "stdout",
          "text": [
            "9\n",
            "81\n"
          ]
        },
        {
          "output_type": "error",
          "ename": "StopIteration",
          "evalue": "ignored",
          "traceback": [
            "\u001b[0;31m---------------------------------------------------------------------------\u001b[0m",
            "\u001b[0;31mStopIteration\u001b[0m                             Traceback (most recent call last)",
            "\u001b[0;32m<ipython-input-30-42797feba9d2>\u001b[0m in \u001b[0;36m<module>\u001b[0;34m\u001b[0m\n\u001b[1;32m     11\u001b[0m \u001b[0mprint\u001b[0m\u001b[0;34m(\u001b[0m\u001b[0mnext\u001b[0m\u001b[0;34m(\u001b[0m\u001b[0mobj\u001b[0m\u001b[0;34m)\u001b[0m\u001b[0;34m)\u001b[0m\u001b[0;34m\u001b[0m\u001b[0;34m\u001b[0m\u001b[0m\n\u001b[1;32m     12\u001b[0m \u001b[0;34m\u001b[0m\u001b[0m\n\u001b[0;32m---> 13\u001b[0;31m \u001b[0mprint\u001b[0m\u001b[0;34m(\u001b[0m\u001b[0mnext\u001b[0m\u001b[0;34m(\u001b[0m\u001b[0mobj\u001b[0m\u001b[0;34m)\u001b[0m\u001b[0;34m)\u001b[0m\u001b[0;34m\u001b[0m\u001b[0;34m\u001b[0m\u001b[0m\n\u001b[0m",
            "\u001b[0;31mStopIteration\u001b[0m: "
          ]
        }
      ]
    },
    {
      "cell_type": "code",
      "source": [
        "#generators with for loop\n",
        "\n",
        "def ex(a):\n",
        "  yield a\n",
        "  a *= a\n",
        "  yield a\n",
        "\n",
        "obj = ex(9)\n",
        "\n",
        "for i in obj:\n",
        "  print(i)"
      ],
      "metadata": {
        "colab": {
          "base_uri": "https://localhost:8080/"
        },
        "id": "0Fq9VYapl_zh",
        "outputId": "8f2cd66c-6105-4e55-c810-348a65214d8d"
      },
      "execution_count": null,
      "outputs": [
        {
          "output_type": "stream",
          "name": "stdout",
          "text": [
            "9\n",
            "81\n"
          ]
        }
      ]
    },
    {
      "cell_type": "code",
      "source": [
        "a = range(10)\n",
        "a"
      ],
      "metadata": {
        "colab": {
          "base_uri": "https://localhost:8080/"
        },
        "id": "FWtkZzn0mwD1",
        "outputId": "11fb75fb-62ad-48fb-dc5a-d425431af978"
      },
      "execution_count": null,
      "outputs": [
        {
          "output_type": "execute_result",
          "data": {
            "text/plain": [
              "range(0, 10)"
            ]
          },
          "metadata": {},
          "execution_count": 32
        }
      ]
    },
    {
      "cell_type": "code",
      "source": [
        "for i in a:\n",
        "  print(i)"
      ],
      "metadata": {
        "colab": {
          "base_uri": "https://localhost:8080/"
        },
        "id": "zWfDou8RnTDJ",
        "outputId": "86b433da-43f1-49a4-901d-dac225cfbd6d"
      },
      "execution_count": null,
      "outputs": [
        {
          "output_type": "stream",
          "name": "stdout",
          "text": [
            "0\n",
            "1\n",
            "2\n",
            "3\n",
            "4\n",
            "5\n",
            "6\n",
            "7\n",
            "8\n",
            "9\n"
          ]
        }
      ]
    },
    {
      "cell_type": "code",
      "source": [
        "#GENERATOR EXPRESSION\n",
        "\n",
        "r = range(6)\n",
        "\n",
        "print(\"List Comprehensino: \",end=\"\")\n",
        "ls = [x*10 for x in r]\n",
        "print(ls)\n",
        "  #ALL VALUES WILL BE GENERATED AT ONCE USING LIST COMPREHENSION\n",
        "\n",
        "print(\"Generator Expression: \",end=\"\")\n",
        "\n",
        "gen_ex = (x*100 for x in r)\n",
        "print(gen_ex)"
      ],
      "metadata": {
        "colab": {
          "base_uri": "https://localhost:8080/"
        },
        "id": "eDMlXshtnW6S",
        "outputId": "f1dc8774-669c-4583-fa74-775121b375a5"
      },
      "execution_count": null,
      "outputs": [
        {
          "output_type": "stream",
          "name": "stdout",
          "text": [
            "List Comprehensino: [0, 10, 20, 30, 40, 50]\n",
            "Generator Expression: <generator object <genexpr> at 0x7f3beb3ac430>\n"
          ]
        }
      ]
    },
    {
      "cell_type": "code",
      "source": [
        "print(\"1st item: \",next(gen_ex))\n",
        "\n",
        "print(\"2nd item generated: \",next(gen_ex))\n",
        "\n",
        "for i in gen_ex:\n",
        "  print(i)"
      ],
      "metadata": {
        "colab": {
          "base_uri": "https://localhost:8080/"
        },
        "id": "nwoFe876oUuX",
        "outputId": "5c26c2b8-5ef4-449a-90bf-50bec9bbab7b"
      },
      "execution_count": null,
      "outputs": [
        {
          "output_type": "stream",
          "name": "stdout",
          "text": [
            "1st item:  0\n",
            "2nd item generated:  100\n",
            "200\n",
            "300\n",
            "400\n",
            "500\n"
          ]
        }
      ]
    },
    {
      "cell_type": "code",
      "source": [
        "gen_ex = (x*100 for x in r)\n",
        "print(gen_ex)\n",
        "\n",
        "print(max(gen_ex))"
      ],
      "metadata": {
        "colab": {
          "base_uri": "https://localhost:8080/"
        },
        "id": "95vzV4IIoeey",
        "outputId": "4e421124-4668-4d7d-e479-dc9720ca44a3"
      },
      "execution_count": null,
      "outputs": [
        {
          "output_type": "stream",
          "name": "stdout",
          "text": [
            "<generator object <genexpr> at 0x7f3beb325ac0>\n",
            "500\n"
          ]
        }
      ]
    },
    {
      "cell_type": "code",
      "source": [
        "# Heading"
      ],
      "metadata": {
        "id": "3Sr_p6PBpl-k"
      },
      "execution_count": null,
      "outputs": []
    },
    {
      "cell_type": "code",
      "source": [
        "#Fibonacci using Generation\n",
        "\n",
        "def fib(n):\n",
        "  f,s = 0,1\n",
        "  while True:\n",
        "    yield f\n",
        "    f,s = s, f+s\n",
        "    if f>=n:\n",
        "      break\n",
        "\n",
        "for i in fib(50):\n",
        "  print(i, end=\" \")"
      ],
      "metadata": {
        "colab": {
          "base_uri": "https://localhost:8080/"
        },
        "id": "amGxZQdJqDtg",
        "outputId": "92c86ffe-3011-4947-f9d9-17d8a706bf94"
      },
      "execution_count": null,
      "outputs": [
        {
          "output_type": "stream",
          "name": "stdout",
          "text": [
            "0 1 1 2 3 5 8 13 21 34 "
          ]
        }
      ]
    },
    {
      "cell_type": "code",
      "source": [
        "#GENERATING NUMBER STREAM\n",
        "\n",
        "def stream(i,n):\n",
        "\n",
        "  while i<=n:\n",
        "    yield i\n",
        "    i+= 10\n",
        "\n",
        "for x in stream(800,1000):\n",
        "  print(x, end=\" \")\n"
      ],
      "metadata": {
        "colab": {
          "base_uri": "https://localhost:8080/"
        },
        "id": "eQJQ_0r_qiYt",
        "outputId": "695281e4-417b-48e2-8d93-b4458aa62667"
      },
      "execution_count": null,
      "outputs": [
        {
          "output_type": "stream",
          "name": "stdout",
          "text": [
            "800 810 820 830 840 850 860 870 880 890 900 910 920 930 940 950 960 970 980 990 1000 "
          ]
        }
      ]
    },
    {
      "cell_type": "code",
      "source": [
        "import numpy as np\n",
        "from matplotlib import pyplot as plt\n",
        "import seaborn as sb \n",
        "\n",
        "def s(flip=2):\n",
        "  x = np.linspace(0,14,100)\n",
        "  for i in range(1,5):\n",
        "    plt.plot(x, np.sin(x+i*.5)*(7-i)*flip)\n",
        "  \n",
        "\n",
        "sb.set()\n",
        "s()\n",
        "plt.show()\n"
      ],
      "metadata": {
        "colab": {
          "base_uri": "https://localhost:8080/",
          "height": 268
        },
        "id": "DTwbhaAhrVP2",
        "outputId": "f1237fa4-f9a2-4641-bcd5-b8be27999ad0"
      },
      "execution_count": null,
      "outputs": [
        {
          "output_type": "display_data",
          "data": {
            "text/plain": [
              "<Figure size 432x288 with 1 Axes>"
            ],
            "image/png": "[encoded data removed]"
          },
          "metadata": {}
        }
      ]
    },
    {
      "cell_type": "code",
      "source": [
        "#USING GENERATOR TO PRODUCE SIN WAVE ONE AT A TIME\n",
        "\n",
        "def s(flip=2):\n",
        "  x = np.linspace(0,14,100)\n",
        "  for i in range(1,5):\n",
        "    yield(plt.plot(x, np.sin(x+i*.5)*(7-i)*flip))\n",
        "  \n",
        "\n",
        "sb.set()\n",
        "obj = s()\n",
        "\n",
        "plt.show()\n",
        "\n",
        "print(next(obj))\n",
        "print(next(obj))"
      ],
      "metadata": {
        "colab": {
          "base_uri": "https://localhost:8080/",
          "height": 303
        },
        "id": "9ZzqgQZTsdox",
        "outputId": "c40d4be1-d8fc-4cc8-de08-21e6357ee4aa"
      },
      "execution_count": null,
      "outputs": [
        {
          "output_type": "stream",
          "name": "stdout",
          "text": [
            "[<matplotlib.lines.Line2D object at 0x7f3be31ee040>]\n",
            "[<matplotlib.lines.Line2D object at 0x7f3be31ee3d0>]\n"
          ]
        },
        {
          "output_type": "display_data",
          "data": {
            "text/plain": [
              "<Figure size 432x288 with 1 Axes>"
            ],
            "image/png": "[encoded data removed]"
          },
          "metadata": {}
        }
      ]
    },
    {
      "cell_type": "code",
      "source": [
        "print(next(obj))"
      ],
      "metadata": {
        "colab": {
          "base_uri": "https://localhost:8080/",
          "height": 285
        },
        "id": "ei5ioBBptunC",
        "outputId": "c6ad3b36-7ea5-418d-b79c-28b965c91db3"
      },
      "execution_count": null,
      "outputs": [
        {
          "output_type": "stream",
          "name": "stdout",
          "text": [
            "[<matplotlib.lines.Line2D object at 0x7f3be3138ac0>]\n"
          ]
        },
        {
          "output_type": "display_data",
          "data": {
            "text/plain": [
              "<Figure size 432x288 with 1 Axes>"
            ],
            "image/png": "[encoded data removed]"
          },
          "metadata": {}
        }
      ]
    },
    {
      "cell_type": "code",
      "source": [
        "next(s)"
      ],
      "metadata": {
        "colab": {
          "base_uri": "https://localhost:8080/",
          "height": 166
        },
        "id": "t1OLYifntzZy",
        "outputId": "feb0402f-3ddd-4841-e844-2281dd260d7a"
      },
      "execution_count": null,
      "outputs": [
        {
          "output_type": "error",
          "ename": "TypeError",
          "evalue": "ignored",
          "traceback": [
            "\u001b[0;31m---------------------------------------------------------------------------\u001b[0m",
            "\u001b[0;31mTypeError\u001b[0m                                 Traceback (most recent call last)",
            "\u001b[0;32m<ipython-input-53-61c30b5fe1d5>\u001b[0m in \u001b[0;36m<module>\u001b[0;34m\u001b[0m\n\u001b[0;32m----> 1\u001b[0;31m \u001b[0mnext\u001b[0m\u001b[0;34m(\u001b[0m\u001b[0ms\u001b[0m\u001b[0;34m)\u001b[0m\u001b[0;34m\u001b[0m\u001b[0;34m\u001b[0m\u001b[0m\n\u001b[0m",
            "\u001b[0;31mTypeError\u001b[0m: 'function' object is not an iterator"
          ]
        }
      ]
    },
    {
      "cell_type": "code",
      "source": [
        "#CUSTOM ITERATOR\n",
        "\n",
        "class PowTwo:\n",
        "    \"\"\"Class to implement an iterator\n",
        "    of powers of two\"\"\"\n",
        "\n",
        "    def __init__(self, max=0):\n",
        "        self.max = max\n",
        "\n",
        "    def __iter__(self):\n",
        "        self.n = 0\n",
        "        return self\n",
        "\n",
        "    def __next__(self):\n",
        "        if self.n <= self.max:\n",
        "            result = 2 ** self.n\n",
        "            self.n += 1\n",
        "            return result\n",
        "        else:\n",
        "            raise StopIteration\n",
        "\n",
        "\n",
        "# create an object\n",
        "numbers = PowTwo(3)\n",
        "\n",
        "# create an iterable from the object\n",
        "i = iter(numbers)\n",
        "\n",
        "# Using next to get to the next iterator element\n",
        "print(next(i)) # prints 1\n",
        "print(next(i)) # prints 2\n",
        "print(next(i)) # prints 4\n",
        "print(next(i)) # prints 8\n",
        "print(next(i)) # raises StopIteration exception"
      ],
      "metadata": {
        "id": "truWVpl5t2FC",
        "colab": {
          "base_uri": "https://localhost:8080/",
          "height": 391
        },
        "outputId": "a7464225-e339-4263-e372-17a43e8a1cc4"
      },
      "execution_count": null,
      "outputs": [
        {
          "output_type": "stream",
          "name": "stdout",
          "text": [
            "1\n",
            "2\n",
            "4\n",
            "8\n"
          ]
        },
        {
          "output_type": "error",
          "ename": "StopIteration",
          "evalue": "ignored",
          "traceback": [
            "\u001b[0;31m---------------------------------------------------------------------------\u001b[0m",
            "\u001b[0;31mStopIteration\u001b[0m                             Traceback (most recent call last)",
            "\u001b[0;32m<ipython-input-1-67c17f025f30>\u001b[0m in \u001b[0;36m<module>\u001b[0;34m\u001b[0m\n\u001b[1;32m     32\u001b[0m \u001b[0mprint\u001b[0m\u001b[0;34m(\u001b[0m\u001b[0mnext\u001b[0m\u001b[0;34m(\u001b[0m\u001b[0mi\u001b[0m\u001b[0;34m)\u001b[0m\u001b[0;34m)\u001b[0m \u001b[0;31m# prints 4\u001b[0m\u001b[0;34m\u001b[0m\u001b[0;34m\u001b[0m\u001b[0m\n\u001b[1;32m     33\u001b[0m \u001b[0mprint\u001b[0m\u001b[0;34m(\u001b[0m\u001b[0mnext\u001b[0m\u001b[0;34m(\u001b[0m\u001b[0mi\u001b[0m\u001b[0;34m)\u001b[0m\u001b[0;34m)\u001b[0m \u001b[0;31m# prints 8\u001b[0m\u001b[0;34m\u001b[0m\u001b[0;34m\u001b[0m\u001b[0m\n\u001b[0;32m---> 34\u001b[0;31m \u001b[0mprint\u001b[0m\u001b[0;34m(\u001b[0m\u001b[0mnext\u001b[0m\u001b[0;34m(\u001b[0m\u001b[0mi\u001b[0m\u001b[0;34m)\u001b[0m\u001b[0;34m)\u001b[0m \u001b[0;31m# raises StopIteration exception\u001b[0m\u001b[0;34m\u001b[0m\u001b[0;34m\u001b[0m\u001b[0m\n\u001b[0m",
            "\u001b[0;32m<ipython-input-1-67c17f025f30>\u001b[0m in \u001b[0;36m__next__\u001b[0;34m(self)\u001b[0m\n\u001b[1;32m     18\u001b[0m             \u001b[0;32mreturn\u001b[0m \u001b[0mresult\u001b[0m\u001b[0;34m\u001b[0m\u001b[0;34m\u001b[0m\u001b[0m\n\u001b[1;32m     19\u001b[0m         \u001b[0;32melse\u001b[0m\u001b[0;34m:\u001b[0m\u001b[0;34m\u001b[0m\u001b[0;34m\u001b[0m\u001b[0m\n\u001b[0;32m---> 20\u001b[0;31m             \u001b[0;32mraise\u001b[0m \u001b[0mStopIteration\u001b[0m\u001b[0;34m\u001b[0m\u001b[0;34m\u001b[0m\u001b[0m\n\u001b[0m\u001b[1;32m     21\u001b[0m \u001b[0;34m\u001b[0m\u001b[0m\n\u001b[1;32m     22\u001b[0m \u001b[0;34m\u001b[0m\u001b[0m\n",
            "\u001b[0;31mStopIteration\u001b[0m: "
          ]
        }
      ]
    },
    {
      "cell_type": "code",
      "source": [
        "from itertools import count\n",
        "\n",
        "# create an infinite iterator that starts at 1 and increments by 1 each time\n",
        "infinite_iterator = count(1)\n",
        "\n",
        "# print the first 5 elements of the infinite iterator\n",
        "for i in range(5):\n",
        "    print(next(infinite_iterator))"
      ],
      "metadata": {
        "id": "tE9w1eheSjK-"
      },
      "execution_count": null,
      "outputs": []
    },
    {
      "cell_type": "code",
      "source": [
        "import sys\n",
        "sys.path"
      ],
      "metadata": {
        "colab": {
          "base_uri": "https://localhost:8080/"
        },
        "id": "Nmlb2y4eUo7o",
        "outputId": "bbd1cf03-b60d-4fa9-cc7f-248fc7e61771"
      },
      "execution_count": null,
      "outputs": [
        {
          "output_type": "execute_result",
          "data": {
            "text/plain": [
              "['/content',\n",
              " '/env/python',\n",
              " '/usr/lib/python38.zip',\n",
              " '/usr/lib/python3.8',\n",
              " '/usr/lib/python3.8/lib-dynload',\n",
              " '',\n",
              " '/usr/local/lib/python3.8/dist-packages',\n",
              " '/usr/lib/python3/dist-packages',\n",
              " '/usr/local/lib/python3.8/dist-packages/IPython/extensions',\n",
              " '/root/.ipython']"
            ]
          },
          "metadata": {},
          "execution_count": 3
        }
      ]
    },
    {
      "cell_type": "code",
      "source": [
        "def gen(a=100):\n",
        "  print(\"First Yield\")\n",
        "  yield a*999\n",
        "\n",
        "  print(\"Return :\")\n",
        "  return 70\n",
        "\n",
        "  print(\"The second yield: \", end=\"\")\n",
        "  yield a+99\n",
        "\n",
        "g = gen()\n",
        "next(g)"
      ],
      "metadata": {
        "id": "Rhmx7NMsUo_M",
        "colab": {
          "base_uri": "https://localhost:8080/"
        },
        "outputId": "6b5411ae-140e-48eb-d100-9024811d27d1"
      },
      "execution_count": null,
      "outputs": [
        {
          "output_type": "stream",
          "name": "stdout",
          "text": [
            "First Yield\n"
          ]
        },
        {
          "output_type": "execute_result",
          "data": {
            "text/plain": [
              "99900"
            ]
          },
          "metadata": {},
          "execution_count": 12
        }
      ]
    },
    {
      "cell_type": "code",
      "source": [
        "next(g)"
      ],
      "metadata": {
        "id": "tuAMqAqGcs0X",
        "colab": {
          "base_uri": "https://localhost:8080/",
          "height": 183
        },
        "outputId": "2186efeb-f64c-4bcf-8cfc-4446eac5d493"
      },
      "execution_count": null,
      "outputs": [
        {
          "output_type": "stream",
          "name": "stdout",
          "text": [
            "Return :\n"
          ]
        },
        {
          "output_type": "error",
          "ename": "StopIteration",
          "evalue": "ignored",
          "traceback": [
            "\u001b[0;31m---------------------------------------------------------------------------\u001b[0m",
            "\u001b[0;31mStopIteration\u001b[0m                             Traceback (most recent call last)",
            "\u001b[0;32m<ipython-input-13-e734f8aca5ac>\u001b[0m in \u001b[0;36m<module>\u001b[0;34m\u001b[0m\n\u001b[0;32m----> 1\u001b[0;31m \u001b[0mnext\u001b[0m\u001b[0;34m(\u001b[0m\u001b[0mg\u001b[0m\u001b[0;34m)\u001b[0m\u001b[0;34m\u001b[0m\u001b[0;34m\u001b[0m\u001b[0m\n\u001b[0m",
            "\u001b[0;31mStopIteration\u001b[0m: 70"
          ]
        }
      ]
    },
    {
      "cell_type": "code",
      "source": [
        "next(g)"
      ],
      "metadata": {
        "id": "SrGN7aQmcs3W",
        "colab": {
          "base_uri": "https://localhost:8080/"
        },
        "outputId": "1115a002-5324-4f09-d06d-3dd8ce1d5f05"
      },
      "execution_count": null,
      "outputs": [
        {
          "output_type": "stream",
          "name": "stdout",
          "text": [
            "The second yield: "
          ]
        },
        {
          "output_type": "execute_result",
          "data": {
            "text/plain": [
              "199"
            ]
          },
          "metadata": {},
          "execution_count": 8
        }
      ]
    },
    {
      "cell_type": "code",
      "source": [
        "next(g)"
      ],
      "metadata": {
        "id": "TpP4ABKscs6v",
        "colab": {
          "base_uri": "https://localhost:8080/"
        },
        "outputId": "bfac36f3-581a-4b33-9b74-a7efd4795e94"
      },
      "execution_count": null,
      "outputs": [
        {
          "output_type": "stream",
          "name": "stdout",
          "text": [
            "The Third yield: \n"
          ]
        },
        {
          "output_type": "execute_result",
          "data": {
            "text/plain": [
              "333333333333"
            ]
          },
          "metadata": {},
          "execution_count": 9
        }
      ]
    },
    {
      "cell_type": "code",
      "source": [
        "next(g)"
      ],
      "metadata": {
        "colab": {
          "base_uri": "https://localhost:8080/",
          "height": 183
        },
        "id": "oO9Xx8biY7rI",
        "outputId": "2763d3a6-4028-40d6-c18a-671e938e8dc2"
      },
      "execution_count": null,
      "outputs": [
        {
          "output_type": "stream",
          "name": "stdout",
          "text": [
            "Now, the Stop Iteration Exception\n"
          ]
        },
        {
          "output_type": "error",
          "ename": "StopIteration",
          "evalue": "ignored",
          "traceback": [
            "\u001b[0;31m---------------------------------------------------------------------------\u001b[0m",
            "\u001b[0;31mStopIteration\u001b[0m                             Traceback (most recent call last)",
            "\u001b[0;32m<ipython-input-10-e734f8aca5ac>\u001b[0m in \u001b[0;36m<module>\u001b[0;34m\u001b[0m\n\u001b[0;32m----> 1\u001b[0;31m \u001b[0mnext\u001b[0m\u001b[0;34m(\u001b[0m\u001b[0mg\u001b[0m\u001b[0;34m)\u001b[0m\u001b[0;34m\u001b[0m\u001b[0;34m\u001b[0m\u001b[0m\n\u001b[0m",
            "\u001b[0;31mStopIteration\u001b[0m: "
          ]
        }
      ]
    },
    {
      "cell_type": "markdown",
      "source": [
        "# LIST COMPREHENSION\n",
        "# **SET AND DICTIONARY COMPREHENSION**"
      ],
      "metadata": {
        "id": "6OEFzZ35e9mG"
      }
    },
    {
      "cell_type": "code",
      "source": [
        "fruits = ['apple', 'cherry', 'pineapple', 'orange', 'mango']\n",
        "\n",
        "#get fruits having 'a' in them\n",
        "\n",
        "res = []\n",
        "for i in fruits:\n",
        "  if 'a' in i:\n",
        "    res.append(i)\n",
        "\n",
        "print(res)"
      ],
      "metadata": {
        "colab": {
          "base_uri": "https://localhost:8080/"
        },
        "id": "ko8P_UUPY9IG",
        "outputId": "5a23ef7f-647b-4608-fc55-589a1126c3f3"
      },
      "execution_count": null,
      "outputs": [
        {
          "output_type": "stream",
          "name": "stdout",
          "text": [
            "['apple', 'pineapple', 'orange', 'mango']\n"
          ]
        }
      ]
    },
    {
      "cell_type": "code",
      "source": [
        "#using list comprehension\n",
        "\n",
        "res_0 = [fruit for fruit in fruits if 'a' in fruit]\n",
        "\n",
        "res_0"
      ],
      "metadata": {
        "colab": {
          "base_uri": "https://localhost:8080/"
        },
        "id": "aGiCCKKre8Vr",
        "outputId": "6d6318dd-55ee-4fd0-ac65-ad2f308d4af6"
      },
      "execution_count": null,
      "outputs": [
        {
          "output_type": "execute_result",
          "data": {
            "text/plain": [
              "['apple', 'pineapple', 'orange', 'mango']"
            ]
          },
          "metadata": {},
          "execution_count": 15
        }
      ]
    },
    {
      "cell_type": "code",
      "source": [
        "#NESTED IF in list comprehension\n",
        "\n",
        "[i for i in range(100) if i%7==0 if i%5==0]\n",
        "          #number divisible by 7 and,then divisible by 5"
      ],
      "metadata": {
        "colab": {
          "base_uri": "https://localhost:8080/"
        },
        "id": "XQB_mKf3e8YI",
        "outputId": "4ae47d46-ee2b-4610-bdf3-2952d7532293"
      },
      "execution_count": null,
      "outputs": [
        {
          "output_type": "execute_result",
          "data": {
            "text/plain": [
              "[0, 35, 70]"
            ]
          },
          "metadata": {},
          "execution_count": 18
        }
      ]
    },
    {
      "cell_type": "code",
      "source": [
        "#if else in list comprehension\n",
        "\n",
        "[str(i) + \" Even\" if i%2==0 else str(i)+\" Odd\" for i in range(10)]"
      ],
      "metadata": {
        "colab": {
          "base_uri": "https://localhost:8080/"
        },
        "id": "YttPPOK2e8a5",
        "outputId": "e0d9036b-695a-4f22-b103-0eeeca305ec1"
      },
      "execution_count": null,
      "outputs": [
        {
          "output_type": "execute_result",
          "data": {
            "text/plain": [
              "['0 Even',\n",
              " '1 Odd',\n",
              " '2 Even',\n",
              " '3 Odd',\n",
              " '4 Even',\n",
              " '5 Odd',\n",
              " '6 Even',\n",
              " '7 Odd',\n",
              " '8 Even',\n",
              " '9 Odd']"
            ]
          },
          "metadata": {},
          "execution_count": 19
        }
      ]
    },
    {
      "cell_type": "code",
      "source": [
        "[i for i in range(10) if i%2==0 else 'Odd']"
      ],
      "metadata": {
        "colab": {
          "base_uri": "https://localhost:8080/",
          "height": 131
        },
        "id": "6bOY8iV0e8dh",
        "outputId": "b5f62b3e-1b21-4a40-bb7c-cb80f0b328e7"
      },
      "execution_count": null,
      "outputs": [
        {
          "output_type": "error",
          "ename": "SyntaxError",
          "evalue": "ignored",
          "traceback": [
            "\u001b[0;36m  File \u001b[0;32m\"<ipython-input-20-a1d57fc41632>\"\u001b[0;36m, line \u001b[0;32m1\u001b[0m\n\u001b[0;31m    [i for i in range(10) if i%2==0 else 'Odd']\u001b[0m\n\u001b[0m                                    ^\u001b[0m\n\u001b[0;31mSyntaxError\u001b[0m\u001b[0;31m:\u001b[0m invalid syntax\n"
          ]
        }
      ]
    },
    {
      "cell_type": "code",
      "source": [
        "i for i in range(10)"
      ],
      "metadata": {
        "colab": {
          "base_uri": "https://localhost:8080/",
          "height": 131
        },
        "id": "0RRU_fWze8g9",
        "outputId": "00808a35-fbf1-4513-9ead-01d1b3e3ae5d"
      },
      "execution_count": null,
      "outputs": [
        {
          "output_type": "error",
          "ename": "SyntaxError",
          "evalue": "ignored",
          "traceback": [
            "\u001b[0;36m  File \u001b[0;32m\"<ipython-input-21-b07d337502b5>\"\u001b[0;36m, line \u001b[0;32m1\u001b[0m\n\u001b[0;31m    i for i in range(10)\u001b[0m\n\u001b[0m      ^\u001b[0m\n\u001b[0;31mSyntaxError\u001b[0m\u001b[0;31m:\u001b[0m invalid syntax\n"
          ]
        }
      ]
    },
    {
      "cell_type": "code",
      "source": [
        "list(i for i in range(10))"
      ],
      "metadata": {
        "colab": {
          "base_uri": "https://localhost:8080/"
        },
        "id": "Z4TakPKghnV-",
        "outputId": "b4ff4cfa-6bb6-4045-f84c-c02fac1be93c"
      },
      "execution_count": null,
      "outputs": [
        {
          "output_type": "execute_result",
          "data": {
            "text/plain": [
              "[0, 1, 2, 3, 4, 5, 6, 7, 8, 9]"
            ]
          },
          "metadata": {},
          "execution_count": 22
        }
      ]
    },
    {
      "cell_type": "code",
      "source": [
        "#Function in List Comprehension\n",
        "\n",
        "def pow(x):\n",
        "  return x**5\n",
        "\n",
        "[pow(i) for i in range(20)]"
      ],
      "metadata": {
        "colab": {
          "base_uri": "https://localhost:8080/"
        },
        "id": "AeV01S1Ehp0v",
        "outputId": "d481d7b5-1042-43a7-8a00-cc2dcd98bdd8"
      },
      "execution_count": null,
      "outputs": [
        {
          "output_type": "execute_result",
          "data": {
            "text/plain": [
              "[0,\n",
              " 1,\n",
              " 32,\n",
              " 243,\n",
              " 1024,\n",
              " 3125,\n",
              " 7776,\n",
              " 16807,\n",
              " 32768,\n",
              " 59049,\n",
              " 100000,\n",
              " 161051,\n",
              " 248832,\n",
              " 371293,\n",
              " 537824,\n",
              " 759375,\n",
              " 1048576,\n",
              " 1419857,\n",
              " 1889568,\n",
              " 2476099]"
            ]
          },
          "metadata": {},
          "execution_count": 23
        }
      ]
    },
    {
      "cell_type": "code",
      "source": [
        "#SET COMPREHENSION using {}\n",
        "\n",
        "sent = \"Death is nothing, but to live defeated and inglorious is to die daily.\"\n",
        "\n",
        "set_vowels = {i for i in sent if i in 'aeiou'}\n",
        "\n",
        "set_vowels"
      ],
      "metadata": {
        "colab": {
          "base_uri": "https://localhost:8080/"
        },
        "id": "nPIkE5xBiMvi",
        "outputId": "52b0da85-8902-49c9-cd58-6b9eded4c89d"
      },
      "execution_count": null,
      "outputs": [
        {
          "output_type": "execute_result",
          "data": {
            "text/plain": [
              "{'a', 'e', 'i', 'o', 'u'}"
            ]
          },
          "metadata": {},
          "execution_count": 24
        }
      ]
    },
    {
      "cell_type": "code",
      "source": [
        "#Dict Comprehension using {}\n",
        "\n",
        "sent = \"Death is nothing, but to live defeated and inglorious is to die daily.\"\n",
        "\n",
        "d_vowels = {i:  sent.count(i) for i in sent if i in 'aeiou'}\n",
        "\n",
        "d_vowels"
      ],
      "metadata": {
        "colab": {
          "base_uri": "https://localhost:8080/"
        },
        "id": "JnlThZXRjTZv",
        "outputId": "ad3ed492-d5c1-4d07-e7cb-b6645f1f24af"
      },
      "execution_count": null,
      "outputs": [
        {
          "output_type": "execute_result",
          "data": {
            "text/plain": [
              "{'e': 6, 'a': 4, 'i': 8, 'o': 5, 'u': 2}"
            ]
          },
          "metadata": {},
          "execution_count": 26
        }
      ]
    },
    {
      "cell_type": "code",
      "source": [
        "d = {i: i**i for i in range(1,11)}\n",
        "d"
      ],
      "metadata": {
        "colab": {
          "base_uri": "https://localhost:8080/"
        },
        "id": "Bs9rkZ-OjunP",
        "outputId": "ad2630ca-7bbe-4927-dbb1-a21e0fc35468"
      },
      "execution_count": null,
      "outputs": [
        {
          "output_type": "execute_result",
          "data": {
            "text/plain": [
              "{1: 1,\n",
              " 2: 4,\n",
              " 3: 27,\n",
              " 4: 256,\n",
              " 5: 3125,\n",
              " 6: 46656,\n",
              " 7: 823543,\n",
              " 8: 16777216,\n",
              " 9: 387420489,\n",
              " 10: 10000000000}"
            ]
          },
          "metadata": {},
          "execution_count": 29
        }
      ]
    },
    {
      "cell_type": "markdown",
      "source": [
        "## ****REGULAR EXPRESSION**\n",
        "# Single hash\n",
        " No hash"
      ],
      "metadata": {
        "id": "wJhnPWTxrJmT"
      }
    },
    {
      "cell_type": "code",
      "source": [
        "import re"
      ],
      "metadata": {
        "id": "ssFxjr4CkI_f"
      },
      "execution_count": null,
      "outputs": []
    },
    {
      "cell_type": "code",
      "source": [
        "s = \"The a\"\n",
        "\n",
        "res = re.match('a', s)\n",
        "print(res)"
      ],
      "metadata": {
        "colab": {
          "base_uri": "https://localhost:8080/"
        },
        "id": "FQYOMkvhrVeL",
        "outputId": "5b69b789-9d35-4a2b-c6b8-c4db4fdf4e6b"
      },
      "execution_count": null,
      "outputs": [
        {
          "output_type": "stream",
          "name": "stdout",
          "text": [
            "None\n"
          ]
        }
      ]
    },
    {
      "cell_type": "code",
      "source": [
        "print(re.match('Tha', s))"
      ],
      "metadata": {
        "colab": {
          "base_uri": "https://localhost:8080/"
        },
        "id": "Az5iUqmPrgKj",
        "outputId": "0183b68a-e984-4cd6-b2e3-6419e058cd97"
      },
      "execution_count": null,
      "outputs": [
        {
          "output_type": "stream",
          "name": "stdout",
          "text": [
            "None\n"
          ]
        }
      ]
    },
    {
      "cell_type": "code",
      "source": [
        "print(re.search(\"The\", s))"
      ],
      "metadata": {
        "colab": {
          "base_uri": "https://localhost:8080/"
        },
        "id": "nmBD9iEkrste",
        "outputId": "64008eab-7e70-49de-ddd6-ce04f7d742d1"
      },
      "execution_count": null,
      "outputs": [
        {
          "output_type": "stream",
          "name": "stdout",
          "text": [
            "<re.Match object; span=(0, 3), match='The'>\n"
          ]
        }
      ]
    },
    {
      "cell_type": "code",
      "source": [
        "print(re.search(r\"[Tha]\", s))\n",
        "  #Checks of any character which mathces the first letter of string"
      ],
      "metadata": {
        "colab": {
          "base_uri": "https://localhost:8080/"
        },
        "id": "oQRV2G_IrxnY",
        "outputId": "9c0a130f-2d22-4d02-99f2-3f5940558780"
      },
      "execution_count": null,
      "outputs": [
        {
          "output_type": "stream",
          "name": "stdout",
          "text": [
            "<re.Match object; span=(0, 1), match='T'>\n"
          ]
        }
      ]
    },
    {
      "cell_type": "code",
      "source": [
        "s = 'xbthththt'\n",
        "\n",
        "print(re.search(r\"Thx\", s))"
      ],
      "metadata": {
        "colab": {
          "base_uri": "https://localhost:8080/"
        },
        "id": "umyvjlcrthtV",
        "outputId": "524f50e3-37c6-410b-e7be-54e678a5f9da"
      },
      "execution_count": null,
      "outputs": [
        {
          "output_type": "stream",
          "name": "stdout",
          "text": [
            "None\n"
          ]
        }
      ]
    },
    {
      "cell_type": "code",
      "source": [
        "print(re.search(r\"[Thx]\", s))"
      ],
      "metadata": {
        "colab": {
          "base_uri": "https://localhost:8080/"
        },
        "id": "pTH6aR45tsBR",
        "outputId": "57c56877-d160-41da-c4c7-7bc5534e313d"
      },
      "execution_count": null,
      "outputs": [
        {
          "output_type": "stream",
          "name": "stdout",
          "text": [
            "<re.Match object; span=(0, 1), match='x'>\n"
          ]
        }
      ]
    },
    {
      "cell_type": "code",
      "source": [
        "s = \"The a\"\n",
        "\n",
        "re.search('a', s)"
      ],
      "metadata": {
        "colab": {
          "base_uri": "https://localhost:8080/"
        },
        "id": "ILaNeAjutvph",
        "outputId": "7a6eda75-b536-4d75-98d4-2868834754e4"
      },
      "execution_count": null,
      "outputs": [
        {
          "output_type": "execute_result",
          "data": {
            "text/plain": [
              "<re.Match object; span=(4, 5), match='a'>"
            ]
          },
          "metadata": {},
          "execution_count": 23
        }
      ]
    },
    {
      "cell_type": "code",
      "source": [
        "s = \"The a   x\"\n",
        "\n",
        "re.search(r'[xa]', s)"
      ],
      "metadata": {
        "colab": {
          "base_uri": "https://localhost:8080/"
        },
        "id": "pw09rGxwujc9",
        "outputId": "f2ebb0ec-6ab8-4ea9-f377-1b38acc411ad"
      },
      "execution_count": null,
      "outputs": [
        {
          "output_type": "execute_result",
          "data": {
            "text/plain": [
              "<re.Match object; span=(4, 5), match='a'>"
            ]
          },
          "metadata": {},
          "execution_count": 24
        }
      ]
    },
    {
      "cell_type": "code",
      "source": [
        "s = \"The world is collapsing and there is nowhere to hide from the zombies\"\n",
        "\n",
        "re.findall(\"he\", s)"
      ],
      "metadata": {
        "colab": {
          "base_uri": "https://localhost:8080/"
        },
        "id": "vKvTDPl8u3gN",
        "outputId": "63aa2e57-1f09-40be-effe-47274567e4b8"
      },
      "execution_count": null,
      "outputs": [
        {
          "output_type": "execute_result",
          "data": {
            "text/plain": [
              "['he', 'he', 'he', 'he']"
            ]
          },
          "metadata": {},
          "execution_count": 25
        }
      ]
    },
    {
      "cell_type": "code",
      "source": [
        "re.findall(r\"[osg]\", s)\n",
        "  #find all for each characters"
      ],
      "metadata": {
        "colab": {
          "base_uri": "https://localhost:8080/"
        },
        "id": "s1Kv2DCZvNJD",
        "outputId": "6bc95080-3e0f-405c-c274-79ab23f6dac2"
      },
      "execution_count": null,
      "outputs": [
        {
          "output_type": "execute_result",
          "data": {
            "text/plain": [
              "['o', 's', 'o', 's', 'g', 's', 'o', 'o', 'o', 'o', 's']"
            ]
          },
          "metadata": {},
          "execution_count": 28
        }
      ]
    },
    {
      "cell_type": "code",
      "source": [
        "r[1-9]"
      ],
      "metadata": {
        "colab": {
          "base_uri": "https://localhost:8080/",
          "height": 166
        },
        "id": "sDc8gNBZvV1K",
        "outputId": "bb26953e-dcd5-4779-bfa6-9aa80410b424"
      },
      "execution_count": null,
      "outputs": [
        {
          "output_type": "error",
          "ename": "NameError",
          "evalue": "ignored",
          "traceback": [
            "\u001b[0;31m---------------------------------------------------------------------------\u001b[0m",
            "\u001b[0;31mNameError\u001b[0m                                 Traceback (most recent call last)",
            "\u001b[0;32m<ipython-input-29-dda744d46434>\u001b[0m in \u001b[0;36m<module>\u001b[0;34m\u001b[0m\n\u001b[0;32m----> 1\u001b[0;31m \u001b[0mr\u001b[0m\u001b[0;34m[\u001b[0m\u001b[0;36m1\u001b[0m\u001b[0;34m-\u001b[0m\u001b[0;36m9\u001b[0m\u001b[0;34m]\u001b[0m\u001b[0;34m\u001b[0m\u001b[0;34m\u001b[0m\u001b[0m\n\u001b[0m",
            "\u001b[0;31mNameError\u001b[0m: name 'r' is not defined"
          ]
        }
      ]
    },
    {
      "cell_type": "code",
      "source": [
        "x = '12345678 A 91 DD 937805784'\n",
        "\n",
        "re.findall(r\"[^1-9]\", x)"
      ],
      "metadata": {
        "colab": {
          "base_uri": "https://localhost:8080/"
        },
        "id": "PjZuCdMa6MQ3",
        "outputId": "a44d6ac3-b4e8-417a-e680-5d4ca2bbb938"
      },
      "execution_count": null,
      "outputs": [
        {
          "output_type": "execute_result",
          "data": {
            "text/plain": [
              "[' ', 'A', ' ', ' ', 'D', 'D', ' ', '0']"
            ]
          },
          "metadata": {},
          "execution_count": 31
        }
      ]
    },
    {
      "cell_type": "code",
      "source": [],
      "metadata": {
        "id": "FhEgiPjm7gEA"
      },
      "execution_count": null,
      "outputs": []
    },
    {
      "cell_type": "code",
      "source": [
        "re.findall(r'..', 'a')"
      ],
      "metadata": {
        "colab": {
          "base_uri": "https://localhost:8080/"
        },
        "id": "ibtx3HD-6Vpl",
        "outputId": "f213bdb5-a972-44c2-af07-fd856e3d7aba"
      },
      "execution_count": null,
      "outputs": [
        {
          "output_type": "execute_result",
          "data": {
            "text/plain": [
              "[]"
            ]
          },
          "metadata": {},
          "execution_count": 34
        }
      ]
    },
    {
      "cell_type": "code",
      "source": [
        "re.findall(r'..', 'ac')"
      ],
      "metadata": {
        "colab": {
          "base_uri": "https://localhost:8080/"
        },
        "id": "QgCuVEIi78Gq",
        "outputId": "a47f4a31-06f3-48f3-bf81-41ada9849870"
      },
      "execution_count": null,
      "outputs": [
        {
          "output_type": "execute_result",
          "data": {
            "text/plain": [
              "['ac']"
            ]
          },
          "metadata": {},
          "execution_count": 35
        }
      ]
    },
    {
      "cell_type": "code",
      "source": [
        "re.findall(r'..', 'ace')"
      ],
      "metadata": {
        "colab": {
          "base_uri": "https://localhost:8080/"
        },
        "id": "ZD6Ap1ae7-5N",
        "outputId": "0d9f7bb2-4dbf-4700-8b81-82312c664f9a"
      },
      "execution_count": null,
      "outputs": [
        {
          "output_type": "execute_result",
          "data": {
            "text/plain": [
              "['ac']"
            ]
          },
          "metadata": {},
          "execution_count": 36
        }
      ]
    },
    {
      "cell_type": "code",
      "source": [
        "re.findall(r'..', 'acex')"
      ],
      "metadata": {
        "colab": {
          "base_uri": "https://localhost:8080/"
        },
        "id": "8TwPfOG78Fju",
        "outputId": "a48b827e-89bc-424d-ec0a-2ed45b204f06"
      },
      "execution_count": null,
      "outputs": [
        {
          "output_type": "execute_result",
          "data": {
            "text/plain": [
              "['ac', 'ex']"
            ]
          },
          "metadata": {},
          "execution_count": 37
        }
      ]
    },
    {
      "cell_type": "code",
      "source": [
        "re.findall(r'^a.', 'acex')"
      ],
      "metadata": {
        "colab": {
          "base_uri": "https://localhost:8080/"
        },
        "id": "oogidma48J8f",
        "outputId": "0a65f47d-71e0-4e90-8d16-32badac8aa35"
      },
      "execution_count": null,
      "outputs": [
        {
          "output_type": "execute_result",
          "data": {
            "text/plain": [
              "['ac']"
            ]
          },
          "metadata": {},
          "execution_count": 38
        }
      ]
    },
    {
      "cell_type": "code",
      "source": [
        "re.findall(r'^a.', 'facex')"
      ],
      "metadata": {
        "colab": {
          "base_uri": "https://localhost:8080/"
        },
        "id": "h-mQdujw8Yzc",
        "outputId": "ac19c63e-7204-4b53-8eed-186be0485460"
      },
      "execution_count": null,
      "outputs": [
        {
          "output_type": "execute_result",
          "data": {
            "text/plain": [
              "[]"
            ]
          },
          "metadata": {},
          "execution_count": 39
        }
      ]
    },
    {
      "cell_type": "code",
      "source": [
        "re.findall(r'^fa.', 'facex')"
      ],
      "metadata": {
        "colab": {
          "base_uri": "https://localhost:8080/"
        },
        "id": "rD6BbmTa8dxz",
        "outputId": "3e7c688e-9033-43f2-f412-f8f3df12550a"
      },
      "execution_count": null,
      "outputs": [
        {
          "output_type": "execute_result",
          "data": {
            "text/plain": [
              "['fac']"
            ]
          },
          "metadata": {},
          "execution_count": 40
        }
      ]
    },
    {
      "cell_type": "code",
      "source": [
        "re.findall(r'^fa.', 'fxcex')"
      ],
      "metadata": {
        "colab": {
          "base_uri": "https://localhost:8080/"
        },
        "id": "_wZYwBTn8i5K",
        "outputId": "2e54f2be-6343-4042-fa62-c1ee510823c0"
      },
      "execution_count": null,
      "outputs": [
        {
          "output_type": "execute_result",
          "data": {
            "text/plain": [
              "[]"
            ]
          },
          "metadata": {},
          "execution_count": 41
        }
      ]
    },
    {
      "cell_type": "code",
      "source": [
        "re.search(r'x$', 'james and x')"
      ],
      "metadata": {
        "colab": {
          "base_uri": "https://localhost:8080/"
        },
        "id": "8HYsiyvb8mQy",
        "outputId": "368dc4d1-5ae5-4e3a-8436-8f6ec0f11c3e"
      },
      "execution_count": null,
      "outputs": [
        {
          "output_type": "execute_result",
          "data": {
            "text/plain": [
              "<re.Match object; span=(10, 11), match='x'>"
            ]
          },
          "metadata": {},
          "execution_count": 43
        }
      ]
    },
    {
      "cell_type": "code",
      "source": [
        "print(re.findall(r'x*p', ' xp '))"
      ],
      "metadata": {
        "colab": {
          "base_uri": "https://localhost:8080/"
        },
        "id": "GGKBznet9RwA",
        "outputId": "c6efd7e6-1ffe-4df1-d1b2-666caf0c5c92"
      },
      "execution_count": null,
      "outputs": [
        {
          "output_type": "stream",
          "name": "stdout",
          "text": [
            "['xp']\n"
          ]
        }
      ]
    },
    {
      "cell_type": "code",
      "source": [
        "print(re.findall(r'x*p', ' xxxxxp '))"
      ],
      "metadata": {
        "colab": {
          "base_uri": "https://localhost:8080/"
        },
        "id": "aNTeEVOw9Xmg",
        "outputId": "08dd092a-a557-4e07-88f1-6982ec48a78f"
      },
      "execution_count": null,
      "outputs": [
        {
          "output_type": "stream",
          "name": "stdout",
          "text": [
            "['xxxxxp']\n"
          ]
        }
      ]
    },
    {
      "cell_type": "code",
      "source": [
        "print(re.findall(r'x*p', '  p faxpxxxxp'))"
      ],
      "metadata": {
        "colab": {
          "base_uri": "https://localhost:8080/"
        },
        "id": "iGfQp6K199m4",
        "outputId": "5ca3f09b-67c3-4d15-f257-8b428a2dec6d"
      },
      "execution_count": null,
      "outputs": [
        {
          "output_type": "stream",
          "name": "stdout",
          "text": [
            "['p', 'xp', 'xxxxp']\n"
          ]
        }
      ]
    },
    {
      "cell_type": "code",
      "source": [
        "print(re.findall(r'ma?n', ' mn man maaan  main  woman '))"
      ],
      "metadata": {
        "colab": {
          "base_uri": "https://localhost:8080/"
        },
        "id": "DBGXysgN-Cw5",
        "outputId": "411dcce9-c48e-418c-f3df-cb8108a0c2e6"
      },
      "execution_count": null,
      "outputs": [
        {
          "output_type": "stream",
          "name": "stdout",
          "text": [
            "['mn', 'man', 'man']\n"
          ]
        }
      ]
    },
    {
      "cell_type": "code",
      "source": [
        "re.findall(r'\\^*a', ' 12  ^^^ab ^a')"
      ],
      "metadata": {
        "colab": {
          "base_uri": "https://localhost:8080/"
        },
        "id": "pQn7uXgM-NEl",
        "outputId": "200ce646-95e7-4ebc-eca6-ef5facf41d9f"
      },
      "execution_count": null,
      "outputs": [
        {
          "output_type": "execute_result",
          "data": {
            "text/plain": [
              "['^^^a', '^a']"
            ]
          },
          "metadata": {},
          "execution_count": 10
        }
      ]
    },
    {
      "cell_type": "code",
      "source": [
        "re.findall(r'\\d{2,3}|a', ' 12  ab 8 98 8990 a')"
      ],
      "metadata": {
        "colab": {
          "base_uri": "https://localhost:8080/"
        },
        "id": "Wb7GbRrsKwU3",
        "outputId": "8e365b50-a825-4f92-fbb1-21dfcb241801"
      },
      "execution_count": null,
      "outputs": [
        {
          "output_type": "execute_result",
          "data": {
            "text/plain": [
              "['12', 'a', '98', '899', 'a']"
            ]
          },
          "metadata": {},
          "execution_count": 12
        }
      ]
    },
    {
      "cell_type": "code",
      "source": [
        "re.split(r'!', 'Jam ! es ! end ! another !', 2)\n",
        "  #max two splits"
      ],
      "metadata": {
        "colab": {
          "base_uri": "https://localhost:8080/"
        },
        "id": "bJ82GPwIN7Bb",
        "outputId": "fc6221e9-628d-4274-c4a4-da418d02bacb"
      },
      "execution_count": null,
      "outputs": [
        {
          "output_type": "execute_result",
          "data": {
            "text/plain": [
              "['Jam ', ' es ', ' end ! another !']"
            ]
          },
          "metadata": {},
          "execution_count": 18
        }
      ]
    },
    {
      "cell_type": "markdown",
      "source": [
        "## SERIALIZATION N DESERIALIZATION"
      ],
      "metadata": {
        "id": "AwO_VVCYKQ9a"
      }
    },
    {
      "cell_type": "code",
      "source": [
        "import pickle\n",
        "\n",
        "\n",
        "test_dict = {\"Hello\": \"World!\", \"Key 2\": 1000}\n",
        "\n",
        "with open(\"test_pickle.txt\", \"wb\") as outfile:\n",
        " # \"wb\" argument opens the file in binary mode\n",
        " pickle.dump(test_dict, outfile)"
      ],
      "metadata": {
        "id": "I0LCc3YxOa6d"
      },
      "execution_count": null,
      "outputs": []
    },
    {
      "cell_type": "code",
      "source": [
        "with open(\"test_pickle.txt\", \"r\") as f:\n",
        "  f.readlines()"
      ],
      "metadata": {
        "colab": {
          "base_uri": "https://localhost:8080/",
          "height": 339
        },
        "id": "0k5JG2gqx2YC",
        "outputId": "dc4a64ff-8940-4446-d5ef-5ef8a8a4c19b"
      },
      "execution_count": null,
      "outputs": [
        {
          "output_type": "error",
          "ename": "UnicodeDecodeError",
          "evalue": "ignored",
          "traceback": [
            "\u001b[0;31m---------------------------------------------------------------------------\u001b[0m",
            "\u001b[0;31mUnicodeDecodeError\u001b[0m                        Traceback (most recent call last)",
            "\u001b[0;32m<ipython-input-5-47853e39b549>\u001b[0m in \u001b[0;36m<module>\u001b[0;34m\u001b[0m\n\u001b[1;32m      1\u001b[0m \u001b[0;32mwith\u001b[0m \u001b[0mopen\u001b[0m\u001b[0;34m(\u001b[0m\u001b[0;34m\"test_pickle.txt\"\u001b[0m\u001b[0;34m,\u001b[0m \u001b[0;34m\"r\"\u001b[0m\u001b[0;34m)\u001b[0m \u001b[0;32mas\u001b[0m \u001b[0mf\u001b[0m\u001b[0;34m:\u001b[0m\u001b[0;34m\u001b[0m\u001b[0;34m\u001b[0m\u001b[0m\n\u001b[0;32m----> 2\u001b[0;31m   \u001b[0mf\u001b[0m\u001b[0;34m.\u001b[0m\u001b[0mreadlines\u001b[0m\u001b[0;34m(\u001b[0m\u001b[0;34m)\u001b[0m\u001b[0;34m\u001b[0m\u001b[0;34m\u001b[0m\u001b[0m\n\u001b[0m",
            "\u001b[0;32m/usr/lib/python3.8/codecs.py\u001b[0m in \u001b[0;36mdecode\u001b[0;34m(self, input, final)\u001b[0m\n\u001b[1;32m    320\u001b[0m         \u001b[0;31m# decode input (taking the buffer into account)\u001b[0m\u001b[0;34m\u001b[0m\u001b[0;34m\u001b[0m\u001b[0;34m\u001b[0m\u001b[0m\n\u001b[1;32m    321\u001b[0m         \u001b[0mdata\u001b[0m \u001b[0;34m=\u001b[0m \u001b[0mself\u001b[0m\u001b[0;34m.\u001b[0m\u001b[0mbuffer\u001b[0m \u001b[0;34m+\u001b[0m \u001b[0minput\u001b[0m\u001b[0;34m\u001b[0m\u001b[0;34m\u001b[0m\u001b[0m\n\u001b[0;32m--> 322\u001b[0;31m         \u001b[0;34m(\u001b[0m\u001b[0mresult\u001b[0m\u001b[0;34m,\u001b[0m \u001b[0mconsumed\u001b[0m\u001b[0;34m)\u001b[0m \u001b[0;34m=\u001b[0m \u001b[0mself\u001b[0m\u001b[0;34m.\u001b[0m\u001b[0m_buffer_decode\u001b[0m\u001b[0;34m(\u001b[0m\u001b[0mdata\u001b[0m\u001b[0;34m,\u001b[0m \u001b[0mself\u001b[0m\u001b[0;34m.\u001b[0m\u001b[0merrors\u001b[0m\u001b[0;34m,\u001b[0m \u001b[0mfinal\u001b[0m\u001b[0;34m)\u001b[0m\u001b[0;34m\u001b[0m\u001b[0;34m\u001b[0m\u001b[0m\n\u001b[0m\u001b[1;32m    323\u001b[0m         \u001b[0;31m# keep undecoded input until the next call\u001b[0m\u001b[0;34m\u001b[0m\u001b[0;34m\u001b[0m\u001b[0;34m\u001b[0m\u001b[0m\n\u001b[1;32m    324\u001b[0m         \u001b[0mself\u001b[0m\u001b[0;34m.\u001b[0m\u001b[0mbuffer\u001b[0m \u001b[0;34m=\u001b[0m \u001b[0mdata\u001b[0m\u001b[0;34m[\u001b[0m\u001b[0mconsumed\u001b[0m\u001b[0;34m:\u001b[0m\u001b[0;34m]\u001b[0m\u001b[0;34m\u001b[0m\u001b[0;34m\u001b[0m\u001b[0m\n",
            "\u001b[0;31mUnicodeDecodeError\u001b[0m: 'utf-8' codec can't decode byte 0x80 in position 0: invalid start byte"
          ]
        }
      ]
    },
    {
      "cell_type": "code",
      "source": [
        "with open(\"test_pickle.txt\", \"rb\") as f:\n",
        "  d = pickle.load(f)\n",
        "  print(d)\n",
        "\n",
        "print('\\nEnd!')"
      ],
      "metadata": {
        "colab": {
          "base_uri": "https://localhost:8080/"
        },
        "id": "RD6B9dw-yJSC",
        "outputId": "ea991d1c-eeec-4386-b36d-9e9dfdcc11b8"
      },
      "execution_count": null,
      "outputs": [
        {
          "output_type": "stream",
          "name": "stdout",
          "text": [
            "{'Hello': 'World!', 'Key 2': 1000}\n",
            "\n",
            "End!\n"
          ]
        }
      ]
    },
    {
      "cell_type": "code",
      "source": [
        "dt = {\"Hello\": \"World!\", \"Key 2\": 1000}\n",
        "\n",
        "ser_string = pickle.dumps(dt)\n",
        "\n",
        "print(ser_string)"
      ],
      "metadata": {
        "colab": {
          "base_uri": "https://localhost:8080/"
        },
        "id": "AzFAeaFpzOBZ",
        "outputId": "e6cc8c7f-687e-4999-fb42-079db4f7e231"
      },
      "execution_count": null,
      "outputs": [
        {
          "output_type": "stream",
          "name": "stdout",
          "text": [
            "b'\\x80\\x04\\x95!\\x00\\x00\\x00\\x00\\x00\\x00\\x00}\\x94(\\x8c\\x05Hello\\x94\\x8c\\x06World!\\x94\\x8c\\x05Key 2\\x94M\\xe8\\x03u.'\n"
          ]
        }
      ]
    },
    {
      "cell_type": "code",
      "source": [
        "#DESERIALIZATION\n",
        "d = pickle.loads(ser_string)\n",
        "d"
      ],
      "metadata": {
        "colab": {
          "base_uri": "https://localhost:8080/"
        },
        "id": "HJERc0Pt0do0",
        "outputId": "943109fc-cdc0-4f5f-bcf1-9d3763959799"
      },
      "execution_count": null,
      "outputs": [
        {
          "output_type": "execute_result",
          "data": {
            "text/plain": [
              "{'Hello': 'World!', 'Key 2': 1000}"
            ]
          },
          "metadata": {},
          "execution_count": 11
        }
      ]
    },
    {
      "cell_type": "markdown",
      "source": [
        "##**PARTIAL FUNCTION**"
      ],
      "metadata": {
        "id": "a7MDGXk2KLEq"
      }
    },
    {
      "cell_type": "code",
      "source": [
        "#PARTIAL FUNCTION\n",
        "\n",
        "def power(base, exponent):\n",
        "  print(f\"{base} to the power {exponent} is: \"+ str(base**exponent))\n",
        "  return base**exponent\n",
        "\n",
        "\n",
        "def square(base):\n",
        "  #uses the power function\n",
        "  return power(base, 2)\n",
        "\n",
        "\n",
        "def cube(num):\n",
        "  #it uses the power function with expo as 3\n",
        "  return power(num, 3)\n"
      ],
      "metadata": {
        "id": "KWdKerq91DXA"
      },
      "execution_count": null,
      "outputs": []
    },
    {
      "cell_type": "code",
      "source": [
        "power(5,2)\n",
        "square(5)\n",
        "\n",
        "power(5,3)\n",
        "cube(5)"
      ],
      "metadata": {
        "colab": {
          "base_uri": "https://localhost:8080/"
        },
        "id": "wwvBdpib4BEi",
        "outputId": "35207be6-cbc4-401e-96f5-6d3e19294709"
      },
      "execution_count": null,
      "outputs": [
        {
          "output_type": "stream",
          "name": "stdout",
          "text": [
            "5 to the power 2 is: 25\n",
            "5 to the power 2 is: 25\n",
            "5 to the power 3 is: 125\n",
            "5 to the power 3 is: 125\n"
          ]
        },
        {
          "output_type": "execute_result",
          "data": {
            "text/plain": [
              "125"
            ]
          },
          "metadata": {},
          "execution_count": 16
        }
      ]
    },
    {
      "cell_type": "code",
      "source": [
        "from functools import partial\n",
        "\n",
        "def power(base, exponent):\n",
        "  print(f\"{base} to the power {exponent} is: \"+ str(base**exponent))\n",
        "  return base**exponent\n"
      ],
      "metadata": {
        "id": "9wRNdOxf4Eoh"
      },
      "execution_count": null,
      "outputs": []
    },
    {
      "cell_type": "code",
      "source": [
        "square = partial(power, exponent=2)\n",
        "cube = partial(power, exponent=3)\n",
        "\n",
        "quad = partial(power, exponent=4)"
      ],
      "metadata": {
        "id": "JiYfgl295EJN"
      },
      "execution_count": null,
      "outputs": []
    },
    {
      "cell_type": "code",
      "source": [
        "square(5)\n",
        "\n",
        "cube(5)\n",
        "\n",
        "quad(5)"
      ],
      "metadata": {
        "colab": {
          "base_uri": "https://localhost:8080/"
        },
        "id": "C8_nwiC15Rf5",
        "outputId": "519a56b8-9680-4f95-ff27-5b3cd98ac373"
      },
      "execution_count": null,
      "outputs": [
        {
          "output_type": "stream",
          "name": "stdout",
          "text": [
            "5 to the power 2 is: 25\n",
            "5 to the power 3 is: 125\n",
            "5 to the power 4 is: 625\n"
          ]
        },
        {
          "output_type": "execute_result",
          "data": {
            "text/plain": [
              "625"
            ]
          },
          "metadata": {},
          "execution_count": 19
        }
      ]
    },
    {
      "cell_type": "code",
      "source": [
        "def f(a, b, c, d):\n",
        "  print(f\"{a}*{b}*{c}*{d}: \", a*b*c*d)\n",
        "  return a*b*c*d\n",
        "\n",
        "\n",
        "only_two = partial(f, 4, d=10)\n",
        "\n",
        "only_two(8,1)"
      ],
      "metadata": {
        "colab": {
          "base_uri": "https://localhost:8080/"
        },
        "id": "cGc4qIYj5Uz1",
        "outputId": "e7f04b5e-358d-46a9-de42-cf6f668f5295"
      },
      "execution_count": null,
      "outputs": [
        {
          "output_type": "stream",
          "name": "stdout",
          "text": [
            "4*8*1*10:  320\n"
          ]
        },
        {
          "output_type": "execute_result",
          "data": {
            "text/plain": [
              "320"
            ]
          },
          "metadata": {},
          "execution_count": 24
        }
      ]
    },
    {
      "cell_type": "code",
      "source": [
        "only_two(8,1)"
      ],
      "metadata": {
        "colab": {
          "base_uri": "https://localhost:8080/"
        },
        "id": "-rJ_D7Y46WRC",
        "outputId": "9b88dd11-e582-4383-bf8b-498670bea2e3"
      },
      "execution_count": null,
      "outputs": [
        {
          "output_type": "stream",
          "name": "stdout",
          "text": [
            "4*10*8*1:  320\n"
          ]
        },
        {
          "output_type": "execute_result",
          "data": {
            "text/plain": [
              "320"
            ]
          },
          "metadata": {},
          "execution_count": 22
        }
      ]
    },
    {
      "cell_type": "markdown",
      "source": [
        "# NESTED FUNCTIONS"
      ],
      "metadata": {
        "id": "aQIre5tZKEtu"
      }
    },
    {
      "cell_type": "code",
      "source": [
        "def greet(name):\n",
        "    # inner function\n",
        "    def display_name():\n",
        "        print(\"Hi\", name)\n",
        "    \n",
        "    display_name()\n",
        "      #calling inner function\n",
        "\n",
        "greet(\"Asif Khan\")"
      ],
      "metadata": {
        "colab": {
          "base_uri": "https://localhost:8080/"
        },
        "id": "U-e1GlgN6eiP",
        "outputId": "40f330eb-4829-45c8-c75d-61d1ccb1627e"
      },
      "execution_count": null,
      "outputs": [
        {
          "output_type": "stream",
          "name": "stdout",
          "text": [
            "Hi Asif Khan\n"
          ]
        }
      ]
    },
    {
      "cell_type": "code",
      "source": [
        "def outer_f(t):\n",
        "  x = t\n",
        "  def inner_f():\n",
        "    print(x)\n",
        "      #inner function can access the variable from outer funct \n",
        "\n",
        "  inner_f()\n",
        "    #calling inner function within outer f\n",
        "\n",
        "outer_f(\"Heya\")"
      ],
      "metadata": {
        "colab": {
          "base_uri": "https://localhost:8080/"
        },
        "id": "mF0MZ3BzlsHi",
        "outputId": "f4eb6f83-0397-4be6-9f42-c9dbff9def8d"
      },
      "execution_count": null,
      "outputs": [
        {
          "output_type": "stream",
          "name": "stdout",
          "text": [
            "Heya\n"
          ]
        }
      ]
    },
    {
      "cell_type": "code",
      "source": [
        "inner_f()"
      ],
      "metadata": {
        "colab": {
          "base_uri": "https://localhost:8080/",
          "height": 166
        },
        "id": "UfFxtLcMoDbT",
        "outputId": "7066be4b-166b-4b1e-9844-a12fb783ae28"
      },
      "execution_count": null,
      "outputs": [
        {
          "output_type": "error",
          "ename": "NameError",
          "evalue": "ignored",
          "traceback": [
            "\u001b[0;31m---------------------------------------------------------------------------\u001b[0m",
            "\u001b[0;31mNameError\u001b[0m                                 Traceback (most recent call last)",
            "\u001b[0;32m<ipython-input-5-6aeefb915ea8>\u001b[0m in \u001b[0;36m<module>\u001b[0;34m\u001b[0m\n\u001b[0;32m----> 1\u001b[0;31m \u001b[0minner_f\u001b[0m\u001b[0;34m(\u001b[0m\u001b[0;34m)\u001b[0m\u001b[0;34m\u001b[0m\u001b[0;34m\u001b[0m\u001b[0m\n\u001b[0m",
            "\u001b[0;31mNameError\u001b[0m: name 'inner_f' is not defined"
          ]
        }
      ]
    },
    {
      "cell_type": "code",
      "source": [
        "def outer_f(t):\n",
        "  x = t\n",
        "  def inner_f():\n",
        "    print(x)\n",
        "\n",
        "  return inner_f\n",
        "    #returning the inner_f \n",
        "    #NOT CALLING, NO ()\n",
        "\n",
        "\n",
        "var = outer_f(\"Lena Haedy\")"
      ],
      "metadata": {
        "id": "KefWeMR0nxOH"
      },
      "execution_count": null,
      "outputs": []
    },
    {
      "cell_type": "code",
      "source": [
        "var"
      ],
      "metadata": {
        "colab": {
          "base_uri": "https://localhost:8080/"
        },
        "id": "6iC7UrBapFBh",
        "outputId": "863ce419-c2ef-4591-cc1f-f0c25e7687ad"
      },
      "execution_count": null,
      "outputs": [
        {
          "output_type": "execute_result",
          "data": {
            "text/plain": [
              "<function __main__.outer_f.<locals>.inner_f()>"
            ]
          },
          "metadata": {},
          "execution_count": 7
        }
      ]
    },
    {
      "cell_type": "code",
      "source": [
        "var()"
      ],
      "metadata": {
        "colab": {
          "base_uri": "https://localhost:8080/"
        },
        "id": "pgpYZZnppGhW",
        "outputId": "89eb190e-dfe1-4112-d5c9-f40982ce4c11"
      },
      "execution_count": null,
      "outputs": [
        {
          "output_type": "stream",
          "name": "stdout",
          "text": [
            "Lena Haedy\n"
          ]
        }
      ]
    },
    {
      "cell_type": "code",
      "source": [
        "def make_multiplier_of(n):\n",
        "    def multiplier(x):\n",
        "        return x * n\n",
        "    return multiplier\n",
        "\n",
        "\n",
        "# Multiplier of 3\n",
        "times3 = make_multiplier_of(3)\n",
        "\n",
        "# Multiplier of 5\n",
        "times5 = make_multiplier_of(5)\n",
        "\n",
        "print(times3(9))\n",
        "\n",
        "print(times5(3))"
      ],
      "metadata": {
        "colab": {
          "base_uri": "https://localhost:8080/"
        },
        "id": "lzzhjG7fpWyI",
        "outputId": "35fa75b8-e1e6-4414-b3ee-ccba29ae19e0"
      },
      "execution_count": null,
      "outputs": [
        {
          "output_type": "stream",
          "name": "stdout",
          "text": [
            "27\n",
            "15\n"
          ]
        }
      ]
    },
    {
      "cell_type": "code",
      "source": [
        "times5(times3(2))"
      ],
      "metadata": {
        "colab": {
          "base_uri": "https://localhost:8080/"
        },
        "id": "svV32iONylTX",
        "outputId": "9bcf9b5a-1c93-44dc-e991-3bae9be9312f"
      },
      "execution_count": null,
      "outputs": [
        {
          "output_type": "execute_result",
          "data": {
            "text/plain": [
              "30"
            ]
          },
          "metadata": {},
          "execution_count": 12
        }
      ]
    },
    {
      "cell_type": "code",
      "source": [
        "def calculate():\n",
        "    num = 1\n",
        "    def inner_func():\n",
        "        nonlocal num\n",
        "        num += 2\n",
        "        return num\n",
        "    return inner_func\n",
        "\n",
        "# call the outer function\n",
        "odd = calculate()\n",
        "\n",
        "# call the inner function\n",
        "print(odd())\n",
        "print(odd())\n",
        "print(odd())\n",
        "\n",
        "# call the outer function again\n",
        "odd2 = calculate()\n",
        "print(\"Calling from odd2, newly created: \",odd2())\n",
        "\n",
        "\n",
        "print(\"odd (previous function) called again: \",odd())"
      ],
      "metadata": {
        "colab": {
          "base_uri": "https://localhost:8080/"
        },
        "id": "tqiFjnJiy2DN",
        "outputId": "2054e95f-1a5d-4d38-e07f-d1e18d54ef56"
      },
      "execution_count": null,
      "outputs": [
        {
          "output_type": "stream",
          "name": "stdout",
          "text": [
            "3\n",
            "5\n",
            "7\n",
            "Calling from odd2, newly created:  3\n",
            "odd (previous function) called again:  9\n"
          ]
        }
      ]
    },
    {
      "cell_type": "code",
      "source": [
        "def h():\n",
        "  print(\"Hey\\n\")\n",
        "\n",
        "\n",
        "new_name = h\n",
        "\n",
        "another_name = new_name\n",
        "\n",
        "print(\"h(): \", end=\"\")\n",
        "h()\n",
        "\n",
        "print(\"new_name(): \", end=\"\")\n",
        "new_name()\n",
        "\n",
        "another_name()"
      ],
      "metadata": {
        "colab": {
          "base_uri": "https://localhost:8080/"
        },
        "id": "lfzX-6sDzmp8",
        "outputId": "6f6c158c-88df-43cb-b6b2-9b676a607058"
      },
      "execution_count": null,
      "outputs": [
        {
          "output_type": "stream",
          "name": "stdout",
          "text": [
            "h(): Hey\n",
            "\n",
            "new_name(): Hey\n",
            "\n",
            "Hey\n",
            "\n"
          ]
        }
      ]
    },
    {
      "cell_type": "code",
      "source": [
        "del h\n",
        "  #deleting the orignial\n",
        "\n",
        "new_name()"
      ],
      "metadata": {
        "colab": {
          "base_uri": "https://localhost:8080/"
        },
        "id": "MZ_ZGtdTcngg",
        "outputId": "9c4790ff-7462-4f30-9464-224fffbfce74"
      },
      "execution_count": null,
      "outputs": [
        {
          "output_type": "stream",
          "name": "stdout",
          "text": [
            "Hey\n",
            "\n"
          ]
        }
      ]
    },
    {
      "cell_type": "markdown",
      "source": [
        "## ****POLYNOMIAL FUNCTION**\n",
        "# Implementing any type (degree) of Polynomial Functions"
      ],
      "metadata": {
        "id": "pBvAibSJJyI8"
      }
    },
    {
      "cell_type": "code",
      "source": [
        "#Polynomial Function\n",
        "\n",
        "def polynomial_creator(a,b,c):\n",
        "    #taking the coefficient of the polynomial\n",
        "\n",
        "  def polynomial(x):\n",
        "      #inner function takes the x values\n",
        "      return a*x**2 + b*x + c\n",
        "\n",
        "  return polynomial"
      ],
      "metadata": {
        "id": "wsiQCRCLdXUl"
      },
      "execution_count": null,
      "outputs": []
    },
    {
      "cell_type": "code",
      "source": [
        "p1 = polynomial_creator(2,3, -1)\n",
        "p1"
      ],
      "metadata": {
        "colab": {
          "base_uri": "https://localhost:8080/"
        },
        "id": "cOxxdNhqg-Ry",
        "outputId": "664a7ca3-f305-48bf-d290-b08f8e70c302"
      },
      "execution_count": null,
      "outputs": [
        {
          "output_type": "execute_result",
          "data": {
            "text/plain": [
              "<function __main__.polynomial_creator.<locals>.polynomial(x)>"
            ]
          },
          "metadata": {},
          "execution_count": 19
        }
      ]
    },
    {
      "cell_type": "code",
      "source": [
        "p1(10)"
      ],
      "metadata": {
        "colab": {
          "base_uri": "https://localhost:8080/"
        },
        "id": "KPpevnWZhB6N",
        "outputId": "f3c5a82c-fa28-4314-bcb9-97c42f7e8b8a"
      },
      "execution_count": null,
      "outputs": [
        {
          "output_type": "execute_result",
          "data": {
            "text/plain": [
              "229"
            ]
          },
          "metadata": {},
          "execution_count": 20
        }
      ]
    },
    {
      "cell_type": "code",
      "source": [
        "p1(1)"
      ],
      "metadata": {
        "colab": {
          "base_uri": "https://localhost:8080/"
        },
        "id": "KZmAVBVbhOnM",
        "outputId": "018a92e7-7c25-4886-e0c9-e287bc69bad6"
      },
      "execution_count": null,
      "outputs": [
        {
          "output_type": "execute_result",
          "data": {
            "text/plain": [
              "4"
            ]
          },
          "metadata": {},
          "execution_count": 21
        }
      ]
    },
    {
      "cell_type": "code",
      "source": [
        "p1(2)"
      ],
      "metadata": {
        "colab": {
          "base_uri": "https://localhost:8080/"
        },
        "id": "FKTFZQ3whQDS",
        "outputId": "6cdc8131-3b77-41f9-9e15-ef5e10e9f0fe"
      },
      "execution_count": null,
      "outputs": [
        {
          "output_type": "execute_result",
          "data": {
            "text/plain": [
              "13"
            ]
          },
          "metadata": {},
          "execution_count": 23
        }
      ]
    },
    {
      "cell_type": "code",
      "source": [
        "def polynomial_creator(*coefficient):\n",
        "\n",
        "  def polynomial(x):\n",
        "    eqtn = 0\n",
        "\n",
        "    for index, coeff in enumerate(coefficient[::-1]):\n",
        "      eqtn += coeff * x ** index\n",
        "    return eqtn\n",
        "    \n",
        "  return polynomial\n"
      ],
      "metadata": {
        "id": "yva05AUUhSYf"
      },
      "execution_count": null,
      "outputs": []
    },
    {
      "cell_type": "code",
      "source": [
        "p_deg_2 = polynomial_creator(2,3,-1)\n",
        "p_deg_2"
      ],
      "metadata": {
        "colab": {
          "base_uri": "https://localhost:8080/"
        },
        "id": "Q0oGNp_JjY3W",
        "outputId": "70fa5f81-d080-4b17-c837-673898ffd4b1"
      },
      "execution_count": null,
      "outputs": [
        {
          "output_type": "execute_result",
          "data": {
            "text/plain": [
              "<function __main__.polynomial_creator.<locals>.polynomial(x)>"
            ]
          },
          "metadata": {},
          "execution_count": 34
        }
      ]
    },
    {
      "cell_type": "code",
      "source": [
        "p_deg_2(1)"
      ],
      "metadata": {
        "colab": {
          "base_uri": "https://localhost:8080/"
        },
        "id": "9HxUzmkUjirJ",
        "outputId": "d87c4028-3776-49f4-eb14-e1cfe26e1645"
      },
      "execution_count": null,
      "outputs": [
        {
          "output_type": "execute_result",
          "data": {
            "text/plain": [
              "4"
            ]
          },
          "metadata": {},
          "execution_count": 35
        }
      ]
    },
    {
      "cell_type": "code",
      "source": [
        "p_deg_2(2)"
      ],
      "metadata": {
        "colab": {
          "base_uri": "https://localhost:8080/"
        },
        "id": "zJw7nKgbkB-G",
        "outputId": "d4449747-85db-4def-887f-ee3a2c702791"
      },
      "execution_count": null,
      "outputs": [
        {
          "output_type": "execute_result",
          "data": {
            "text/plain": [
              "13"
            ]
          },
          "metadata": {},
          "execution_count": 36
        }
      ]
    },
    {
      "cell_type": "code",
      "source": [
        "p_deg_1 = polynomial_creator(2,4)\n",
        "p_deg_1(10)"
      ],
      "metadata": {
        "colab": {
          "base_uri": "https://localhost:8080/"
        },
        "id": "7-TOii6GkKF1",
        "outputId": "585fb4a1-a450-4799-f95b-afa4d015df8d"
      },
      "execution_count": null,
      "outputs": [
        {
          "output_type": "execute_result",
          "data": {
            "text/plain": [
              "24"
            ]
          },
          "metadata": {},
          "execution_count": 37
        }
      ]
    },
    {
      "cell_type": "code",
      "source": [
        "def poly_creator(*coeff):\n",
        "\n",
        "  def polynomial(x):\n",
        "    res = coeff[0]\n",
        "    for i in range(1,len(coeff)):\n",
        "      res = res *x  + coeff[i]\n",
        "        # (prev eqtn)*x + new_coefficient\n",
        "\n",
        "    return res\n",
        "\n",
        "  return polynomial"
      ],
      "metadata": {
        "id": "1DqOrmK-kQmi"
      },
      "execution_count": null,
      "outputs": []
    },
    {
      "cell_type": "code",
      "source": [
        "p1 = poly_creator(2,3,-1)\n",
        "p1(1)"
      ],
      "metadata": {
        "colab": {
          "base_uri": "https://localhost:8080/"
        },
        "id": "t1BcAnG_m44k",
        "outputId": "35ca3cf3-9f29-4048-a768-abf48e5729dd"
      },
      "execution_count": null,
      "outputs": [
        {
          "output_type": "execute_result",
          "data": {
            "text/plain": [
              "4"
            ]
          },
          "metadata": {},
          "execution_count": 39
        }
      ]
    },
    {
      "cell_type": "code",
      "source": [
        "p1(2)"
      ],
      "metadata": {
        "colab": {
          "base_uri": "https://localhost:8080/"
        },
        "id": "YJznj8W3m-kn",
        "outputId": "1f999aa6-0459-464a-866c-5155a58a49d3"
      },
      "execution_count": null,
      "outputs": [
        {
          "output_type": "execute_result",
          "data": {
            "text/plain": [
              "13"
            ]
          },
          "metadata": {},
          "execution_count": 40
        }
      ]
    },
    {
      "cell_type": "code",
      "source": [
        "p1(10)"
      ],
      "metadata": {
        "colab": {
          "base_uri": "https://localhost:8080/"
        },
        "id": "hVkEAv7Am_XS",
        "outputId": "f0f640d3-674b-44d9-bc77-347156301e89"
      },
      "execution_count": null,
      "outputs": [
        {
          "output_type": "execute_result",
          "data": {
            "text/plain": [
              "229"
            ]
          },
          "metadata": {},
          "execution_count": 41
        }
      ]
    },
    {
      "cell_type": "markdown",
      "source": [
        "#DECORATORS"
      ],
      "metadata": {
        "id": "IWM6IvogJujc"
      }
    },
    {
      "cell_type": "code",
      "source": [
        "def decorator_f( func ):\n",
        "\n",
        "  def func_wrapper(x):\n",
        "    print(\"B4 calling another functions: \" + func.__name__)\n",
        "\n",
        "    func(x)\n",
        "\n",
        "    print(\"After calling func: \"+ func.__name__)\n",
        "\n",
        "  return func_wrapper"
      ],
      "metadata": {
        "id": "GIu0dlODnAjn"
      },
      "execution_count": null,
      "outputs": []
    },
    {
      "cell_type": "code",
      "source": [
        "def foo(y):\n",
        "  print(\"Function foo called, x: \", str(y))"
      ],
      "metadata": {
        "id": "AtKY3kSkoiC3"
      },
      "execution_count": null,
      "outputs": []
    },
    {
      "cell_type": "code",
      "source": [
        "foo(100)"
      ],
      "metadata": {
        "colab": {
          "base_uri": "https://localhost:8080/"
        },
        "id": "5zXJAQDOotY8",
        "outputId": "fdd24560-5782-4ce7-a2ae-c91b783454ce"
      },
      "execution_count": null,
      "outputs": [
        {
          "output_type": "stream",
          "name": "stdout",
          "text": [
            "Function foo called, x:  100\n"
          ]
        }
      ]
    },
    {
      "cell_type": "code",
      "source": [
        "#Decorating foo\n",
        "foo = decorator_f(foo)\n",
        "foo"
      ],
      "metadata": {
        "colab": {
          "base_uri": "https://localhost:8080/"
        },
        "id": "a686A3m1ousT",
        "outputId": "eb07b3ca-b31b-4d49-bac4-433de7ce37a1"
      },
      "execution_count": null,
      "outputs": [
        {
          "output_type": "execute_result",
          "data": {
            "text/plain": [
              "<function __main__.decorator_f.<locals>.func_wrapper(x)>"
            ]
          },
          "metadata": {},
          "execution_count": 48
        }
      ]
    },
    {
      "cell_type": "code",
      "source": [
        "#After decoration\n",
        "\n",
        "foo(100)"
      ],
      "metadata": {
        "colab": {
          "base_uri": "https://localhost:8080/"
        },
        "id": "NZTGTx-5o7F7",
        "outputId": "058519c3-72c9-4373-ff7a-185fcf940818"
      },
      "execution_count": null,
      "outputs": [
        {
          "output_type": "stream",
          "name": "stdout",
          "text": [
            "B4 calling another functions: foo\n",
            "Function foo called, x:  100\n",
            "After calling func: foo\n"
          ]
        }
      ]
    },
    {
      "cell_type": "code",
      "source": [
        "def smart_divide(func):\n",
        "    def inner(a, b):\n",
        "        print(\"I am going to divide\", a, \"and\", b)\n",
        "        if b == 0:\n",
        "            print(\"Whoops! cannot divide\")\n",
        "            return\n",
        "\n",
        "        return func(a, b)\n",
        "    return inner\n",
        "\n",
        "@smart_divide\n",
        "def divide(a, b):\n",
        "    print(a/b)\n",
        "\n",
        "divide(2,5)\n",
        "\n",
        "divide(2,0)"
      ],
      "metadata": {
        "colab": {
          "base_uri": "https://localhost:8080/"
        },
        "id": "UIIUsqhmpHFc",
        "outputId": "1646c407-9c2a-4802-ceac-4c0d51ec9343"
      },
      "execution_count": null,
      "outputs": [
        {
          "output_type": "stream",
          "name": "stdout",
          "text": [
            "I am going to divide 2 and 5\n",
            "0.4\n",
            "I am going to divide 2 and 0\n",
            "Whoops! cannot divide\n"
          ]
        }
      ]
    },
    {
      "cell_type": "markdown",
      "source": [
        "# MAP"
      ],
      "metadata": {
        "id": "r5P1LNnZJp5_"
      }
    },
    {
      "cell_type": "code",
      "source": [
        "x = map(int, input(\":> \").split())\n",
        "x"
      ],
      "metadata": {
        "colab": {
          "base_uri": "https://localhost:8080/"
        },
        "id": "kjVJz1OAv2kp",
        "outputId": "29d514a9-c795-4508-ed7d-241990fc4603"
      },
      "execution_count": null,
      "outputs": [
        {
          "name": "stdout",
          "output_type": "stream",
          "text": [
            ":> 10 20 30 40 50\n"
          ]
        },
        {
          "output_type": "execute_result",
          "data": {
            "text/plain": [
              "<map at 0x7ff38b7f28b0>"
            ]
          },
          "metadata": {},
          "execution_count": 53
        }
      ]
    },
    {
      "cell_type": "code",
      "source": [
        "list(x)"
      ],
      "metadata": {
        "colab": {
          "base_uri": "https://localhost:8080/"
        },
        "id": "h9FsjipGya4_",
        "outputId": "de1ab937-7cf9-4732-ceb0-f03454c2eca7"
      },
      "execution_count": null,
      "outputs": [
        {
          "output_type": "execute_result",
          "data": {
            "text/plain": [
              "[10, 20, 30, 40, 50]"
            ]
          },
          "metadata": {},
          "execution_count": 54
        }
      ]
    },
    {
      "cell_type": "code",
      "source": [
        "list(map(int, input(\":> \").split()))"
      ],
      "metadata": {
        "id": "KRDJ89xvylcx",
        "colab": {
          "base_uri": "https://localhost:8080/"
        },
        "outputId": "a0facdf7-11c2-4144-b0a4-ef89df735d9f"
      },
      "execution_count": null,
      "outputs": [
        {
          "name": "stdout",
          "output_type": "stream",
          "text": [
            ":> 1 2 3 4 5\n"
          ]
        },
        {
          "output_type": "execute_result",
          "data": {
            "text/plain": [
              "[1, 2, 3, 4, 5]"
            ]
          },
          "metadata": {},
          "execution_count": 1
        }
      ]
    },
    {
      "cell_type": "code",
      "source": [
        "def mult(a,b=10):\n",
        "  return a*b\n",
        "\n",
        "\n",
        "list(map(mult ,[1,2,3,4,5,6]))"
      ],
      "metadata": {
        "colab": {
          "base_uri": "https://localhost:8080/"
        },
        "id": "qHUQGjDI3Xsj",
        "outputId": "04297868-1519-4a3e-d992-8c39086fec29"
      },
      "execution_count": null,
      "outputs": [
        {
          "output_type": "execute_result",
          "data": {
            "text/plain": [
              "[10, 20, 30, 40, 50, 60]"
            ]
          },
          "metadata": {},
          "execution_count": 3
        }
      ]
    },
    {
      "cell_type": "code",
      "source": [
        "for i in map(mult, (8,9,5,6,1,3)):\n",
        "  print(i, end=\" \")"
      ],
      "metadata": {
        "colab": {
          "base_uri": "https://localhost:8080/"
        },
        "id": "ZCpgekZ_33Za",
        "outputId": "9a525a7d-706a-4094-daca-a6f78f7d9be3"
      },
      "execution_count": null,
      "outputs": [
        {
          "output_type": "stream",
          "name": "stdout",
          "text": [
            "80 90 50 60 10 30 "
          ]
        }
      ]
    },
    {
      "cell_type": "code",
      "source": [
        "list(map( (lambda x: x**3), {0,1,1,2,2,3,4,5,6,6}))"
      ],
      "metadata": {
        "colab": {
          "base_uri": "https://localhost:8080/"
        },
        "id": "zcWpo7o141Y6",
        "outputId": "1bba196f-a5c5-4a56-e4bf-a1b582dae7a3"
      },
      "execution_count": null,
      "outputs": [
        {
          "output_type": "execute_result",
          "data": {
            "text/plain": [
              "[0, 1, 8, 27, 64, 125, 216]"
            ]
          },
          "metadata": {},
          "execution_count": 6
        }
      ]
    },
    {
      "cell_type": "code",
      "source": [
        "#LIST of FUNCTION within lambda\n",
        "\n",
        "def square(x):\n",
        "  return x**2\n",
        "\n",
        "def cube(x):\n",
        "  return x**3\n",
        "\n",
        "def quad(x):\n",
        "  return x**4\n",
        "\n",
        "func = [square, cube, quad]\n",
        "\n",
        "for i in range(5):\n",
        "  vals = map(lambda x: x(i), func)\n",
        "  print(\"i=\",i,\":> \",list(vals))"
      ],
      "metadata": {
        "colab": {
          "base_uri": "https://localhost:8080/"
        },
        "id": "-otrpe7A5MJ0",
        "outputId": "06df4419-f780-4c97-f605-ea27886deb5f"
      },
      "execution_count": null,
      "outputs": [
        {
          "output_type": "stream",
          "name": "stdout",
          "text": [
            "i= 0 :>  [0, 0, 0]\n",
            "i= 1 :>  [1, 1, 1]\n",
            "i= 2 :>  [4, 8, 16]\n",
            "i= 3 :>  [9, 27, 81]\n",
            "i= 4 :>  [16, 64, 256]\n"
          ]
        }
      ]
    },
    {
      "cell_type": "code",
      "source": [
        "\"\".join(map(lambda x: x.upper(), \"is it true\"))"
      ],
      "metadata": {
        "colab": {
          "base_uri": "https://localhost:8080/",
          "height": 35
        },
        "id": "qXZAR9rj6Hxw",
        "outputId": "40f43899-b755-4864-894c-6e3a98f4f475"
      },
      "execution_count": null,
      "outputs": [
        {
          "output_type": "execute_result",
          "data": {
            "text/plain": [
              "'IS IT TRUE'"
            ],
            "application/vnd.google.colaboratory.intrinsic+json": {
              "type": "string"
            }
          },
          "metadata": {},
          "execution_count": 10
        }
      ]
    },
    {
      "cell_type": "code",
      "source": [
        "l1 = [1,2,3,4]\n",
        "l2 = (10, 100, 1000, 10000)\n",
        "\n",
        "list(map(lambda x: x/2, (map(lambda x,y: x*y, l1, l2))))"
      ],
      "metadata": {
        "colab": {
          "base_uri": "https://localhost:8080/"
        },
        "id": "Tv-IIGR68Hfh",
        "outputId": "9d4a0d52-9d49-47cb-ad89-4c303c10e9a5"
      },
      "execution_count": null,
      "outputs": [
        {
          "output_type": "execute_result",
          "data": {
            "text/plain": [
              "[5.0, 100.0, 1500.0, 20000.0]"
            ]
          },
          "metadata": {},
          "execution_count": 15
        }
      ]
    },
    {
      "cell_type": "markdown",
      "source": [
        "# FILTERS"
      ],
      "metadata": {
        "id": "5JZTBzNR_zyY"
      }
    },
    {
      "cell_type": "code",
      "source": [
        "list(filter(lambda x: x%2==0, [0,1,2,3,4,5,6,7,8,9]))"
      ],
      "metadata": {
        "colab": {
          "base_uri": "https://localhost:8080/"
        },
        "id": "-UIWF9_i_ynd",
        "outputId": "d9415b33-7d55-41c9-f50d-35a7c18e2158"
      },
      "execution_count": null,
      "outputs": [
        {
          "output_type": "execute_result",
          "data": {
            "text/plain": [
              "[0, 2, 4, 6, 8]"
            ]
          },
          "metadata": {},
          "execution_count": 17
        }
      ]
    },
    {
      "cell_type": "code",
      "source": [
        "def vow(x):\n",
        "  if x in 'aeiouAEIOU':\n",
        "    return True\n",
        "  return False\n",
        "\n",
        "list(filter(vow, \"James was an Honest Man, but the Aryans didn't know\"))"
      ],
      "metadata": {
        "colab": {
          "base_uri": "https://localhost:8080/"
        },
        "id": "RU3xZpa-8m_5",
        "outputId": "df738576-b9db-48b6-f0bb-adcaf484a5e3"
      },
      "execution_count": null,
      "outputs": [
        {
          "output_type": "execute_result",
          "data": {
            "text/plain": [
              "['a', 'e', 'a', 'a', 'o', 'e', 'a', 'u', 'e', 'A', 'a', 'i', 'o']"
            ]
          },
          "metadata": {},
          "execution_count": 19
        }
      ]
    },
    {
      "cell_type": "code",
      "source": [
        "l = [1, 'a', 0, False, True, '0', None]\n",
        "\n",
        "list(filter(None, l))"
      ],
      "metadata": {
        "colab": {
          "base_uri": "https://localhost:8080/"
        },
        "id": "F39h37ZxA9AE",
        "outputId": "7d944426-77db-4b74-f8cb-4d6d71dfdb4b"
      },
      "execution_count": null,
      "outputs": [
        {
          "output_type": "execute_result",
          "data": {
            "text/plain": [
              "[1, 'a', True, '0']"
            ]
          },
          "metadata": {},
          "execution_count": 22
        }
      ]
    },
    {
      "cell_type": "markdown",
      "source": [
        "#**REDUCE from functools module**"
      ],
      "metadata": {
        "id": "28Z3zjElLs6z"
      }
    },
    {
      "cell_type": "code",
      "source": [
        "import functools as ft"
      ],
      "metadata": {
        "id": "G9p4BoQvBdpx"
      },
      "execution_count": null,
      "outputs": []
    },
    {
      "cell_type": "code",
      "source": [
        "ft.reduce(lambda x,y: x+y, [1,2,3,4,5,6,7,8,9,10])"
      ],
      "metadata": {
        "colab": {
          "base_uri": "https://localhost:8080/"
        },
        "id": "PPMe4wfDEbeK",
        "outputId": "d1f164d7-81e2-4c46-9977-866b697bd693"
      },
      "execution_count": null,
      "outputs": [
        {
          "output_type": "execute_result",
          "data": {
            "text/plain": [
              "55"
            ]
          },
          "metadata": {},
          "execution_count": 24
        }
      ]
    },
    {
      "cell_type": "code",
      "source": [
        "ft.reduce(lambda x,y:x*y, [1,2,3,4,5])"
      ],
      "metadata": {
        "colab": {
          "base_uri": "https://localhost:8080/"
        },
        "id": "_-N4N7_oElWN",
        "outputId": "7990b311-2bd6-4f15-da49-675fba186cc5"
      },
      "execution_count": null,
      "outputs": [
        {
          "output_type": "execute_result",
          "data": {
            "text/plain": [
              "120"
            ]
          },
          "metadata": {},
          "execution_count": 25
        }
      ]
    },
    {
      "cell_type": "code",
      "source": [
        "# importing itertools for accumulate()\n",
        "import itertools\n",
        " \n",
        "# importing functools for reduce()\n",
        "import functools as ft\n",
        " \n",
        "lis = [1, 3, 4, 10, 4]\n",
        " \n",
        "#summation using accumulate()\n",
        "print(\"The summation of list using accumulate is :\", end=\"\")\n",
        "print(list(itertools.accumulate(lis, lambda x, y: x+y)))\n",
        " \n",
        "# printing summation using reduce()\n",
        "print(\"The summation of list using reduce is :\", end=\"\")\n",
        "print(ft.reduce(lambda x, y: x+y, lis))"
      ],
      "metadata": {
        "colab": {
          "base_uri": "https://localhost:8080/"
        },
        "id": "SSR7R-IRExeQ",
        "outputId": "41742abb-765e-4050-de25-9b5196183dc7"
      },
      "execution_count": null,
      "outputs": [
        {
          "output_type": "stream",
          "name": "stdout",
          "text": [
            "The summation of list using accumulate is :[1, 4, 8, 18, 22]\n",
            "The summation of list using reduce is :22\n"
          ]
        }
      ]
    },
    {
      "cell_type": "code",
      "source": [],
      "metadata": {
        "id": "if_gXkMzFxGv"
      },
      "execution_count": null,
      "outputs": []
    },
    {
      "cell_type": "code",
      "source": [],
      "metadata": {
        "id": "3LT3iJ5XJmw5"
      },
      "execution_count": null,
      "outputs": []
    }
  ]
}