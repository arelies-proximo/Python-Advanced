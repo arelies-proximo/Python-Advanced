{
  "nbformat": 4,
  "nbformat_minor": 0,
  "metadata": {
    "colab": {
      "provenance": [],
      "authorship_tag": "ABX9TyNHtU6QOKWlEzd8TnqLPTGM",
      "include_colab_link": true
    },
    "kernelspec": {
      "name": "python3",
      "display_name": "Python 3"
    },
    "language_info": {
      "name": "python"
    }
  },
  "cells": [
    {
      "cell_type": "markdown",
      "metadata": {
        "id": "view-in-github",
        "colab_type": "text"
      },
      "source": [
        "<a href=\"https://colab.research.google.com/github/arelies-proximo/Python-Advanced/blob/main/Perm%2C_Comb%2C_zip().ipynb\" target=\"_parent\"><img src=\"https://colab.research.google.com/assets/colab-badge.svg\" alt=\"Open In Colab\"/></a>"
      ]
    },
    {
      "cell_type": "code",
      "execution_count": 1,
      "metadata": {
        "id": "41ouzCrP0pYV"
      },
      "outputs": [],
      "source": [
        "from itertools import permutations"
      ]
    },
    {
      "cell_type": "code",
      "source": [
        "permutations([1,2,3])"
      ],
      "metadata": {
        "colab": {
          "base_uri": "https://localhost:8080/"
        },
        "id": "fqj3Zc3e00zj",
        "outputId": "029896bb-1732-49ca-9d06-303cbce2270c"
      },
      "execution_count": 2,
      "outputs": [
        {
          "output_type": "execute_result",
          "data": {
            "text/plain": [
              "<itertools.permutations at 0x7f09dd4ae540>"
            ]
          },
          "metadata": {},
          "execution_count": 2
        }
      ]
    },
    {
      "cell_type": "code",
      "source": [
        "for i in permutations([1,2,3]):\n",
        "  print(i)"
      ],
      "metadata": {
        "colab": {
          "base_uri": "https://localhost:8080/"
        },
        "id": "nbF3nQ9k069p",
        "outputId": "e0e60156-f91b-4059-d416-1f8381a2f6a9"
      },
      "execution_count": 3,
      "outputs": [
        {
          "output_type": "stream",
          "name": "stdout",
          "text": [
            "(1, 2, 3)\n",
            "(1, 3, 2)\n",
            "(2, 1, 3)\n",
            "(2, 3, 1)\n",
            "(3, 1, 2)\n",
            "(3, 2, 1)\n"
          ]
        }
      ]
    },
    {
      "cell_type": "code",
      "source": [
        "#permutation of 2 items\n",
        "for i in permutations([1,2,3], 2):\n",
        "  print(i)"
      ],
      "metadata": {
        "colab": {
          "base_uri": "https://localhost:8080/"
        },
        "id": "5fdaYHpL1Bae",
        "outputId": "82f53cec-07d2-471a-c8c0-cf0f6fed5992"
      },
      "execution_count": 4,
      "outputs": [
        {
          "output_type": "stream",
          "name": "stdout",
          "text": [
            "(1, 2)\n",
            "(1, 3)\n",
            "(2, 1)\n",
            "(2, 3)\n",
            "(3, 1)\n",
            "(3, 2)\n"
          ]
        }
      ]
    },
    {
      "cell_type": "code",
      "source": [
        "len(list((permutations([1,2,3], 2))))"
      ],
      "metadata": {
        "colab": {
          "base_uri": "https://localhost:8080/"
        },
        "id": "gLKTLgzy1G1e",
        "outputId": "f7df3015-7092-4665-e240-9af7cdebbbb0"
      },
      "execution_count": 9,
      "outputs": [
        {
          "output_type": "execute_result",
          "data": {
            "text/plain": [
              "6"
            ]
          },
          "metadata": {},
          "execution_count": 9
        }
      ]
    },
    {
      "cell_type": "code",
      "source": [
        "list(permutations([1,2,3], 2))\n"
      ],
      "metadata": {
        "colab": {
          "base_uri": "https://localhost:8080/"
        },
        "id": "Ec85SLTo1Ler",
        "outputId": "5b20b008-e9ab-4fee-ebde-978a2e257eb1"
      },
      "execution_count": 10,
      "outputs": [
        {
          "output_type": "execute_result",
          "data": {
            "text/plain": [
              "[(1, 2), (1, 3), (2, 1), (2, 3), (3, 1), (3, 2)]"
            ]
          },
          "metadata": {},
          "execution_count": 10
        }
      ]
    },
    {
      "cell_type": "code",
      "source": [
        "from itertools import combinations"
      ],
      "metadata": {
        "id": "7fTrvX0p1YhF"
      },
      "execution_count": 11,
      "outputs": []
    },
    {
      "cell_type": "code",
      "source": [
        "list(combinations([1,2,3]))"
      ],
      "metadata": {
        "colab": {
          "base_uri": "https://localhost:8080/",
          "height": 166
        },
        "id": "49-1awsG1xzh",
        "outputId": "5ee233d6-739f-4396-ec63-fe7608ed5912"
      },
      "execution_count": 12,
      "outputs": [
        {
          "output_type": "error",
          "ename": "TypeError",
          "evalue": "ignored",
          "traceback": [
            "\u001b[0;31m---------------------------------------------------------------------------\u001b[0m",
            "\u001b[0;31mTypeError\u001b[0m                                 Traceback (most recent call last)",
            "\u001b[0;32m<ipython-input-12-a1d91717fc7e>\u001b[0m in \u001b[0;36m<module>\u001b[0;34m\u001b[0m\n\u001b[0;32m----> 1\u001b[0;31m \u001b[0mlist\u001b[0m\u001b[0;34m(\u001b[0m\u001b[0mcombinations\u001b[0m\u001b[0;34m(\u001b[0m\u001b[0;34m[\u001b[0m\u001b[0;36m1\u001b[0m\u001b[0;34m,\u001b[0m\u001b[0;36m2\u001b[0m\u001b[0;34m,\u001b[0m\u001b[0;36m3\u001b[0m\u001b[0;34m]\u001b[0m\u001b[0;34m)\u001b[0m\u001b[0;34m)\u001b[0m\u001b[0;34m\u001b[0m\u001b[0;34m\u001b[0m\u001b[0m\n\u001b[0m",
            "\u001b[0;31mTypeError\u001b[0m: combinations() missing required argument 'r' (pos 2)"
          ]
        }
      ]
    },
    {
      "cell_type": "code",
      "source": [
        "list(combinations([1,2,3], 2))"
      ],
      "metadata": {
        "colab": {
          "base_uri": "https://localhost:8080/"
        },
        "id": "NLa26cfo12s8",
        "outputId": "d537c5aa-3c64-44cd-a96e-424eb859d858"
      },
      "execution_count": 13,
      "outputs": [
        {
          "output_type": "execute_result",
          "data": {
            "text/plain": [
              "[(1, 2), (1, 3), (2, 3)]"
            ]
          },
          "metadata": {},
          "execution_count": 13
        }
      ]
    },
    {
      "cell_type": "code",
      "source": [
        "list(combinations([1,2,3], 3))"
      ],
      "metadata": {
        "colab": {
          "base_uri": "https://localhost:8080/"
        },
        "id": "sRPO8m0816Lm",
        "outputId": "59b87ff6-5a5c-470d-d5e2-b165c44b4278"
      },
      "execution_count": 14,
      "outputs": [
        {
          "output_type": "execute_result",
          "data": {
            "text/plain": [
              "[(1, 2, 3)]"
            ]
          },
          "metadata": {},
          "execution_count": 14
        }
      ]
    },
    {
      "cell_type": "code",
      "source": [
        "list(combinations([1,2,1,1], 2))"
      ],
      "metadata": {
        "colab": {
          "base_uri": "https://localhost:8080/"
        },
        "id": "MInXVkG918CZ",
        "outputId": "4efd0eb7-7139-4c3c-e388-0d53588d8c3c"
      },
      "execution_count": 15,
      "outputs": [
        {
          "output_type": "execute_result",
          "data": {
            "text/plain": [
              "[(1, 2), (1, 1), (1, 1), (2, 1), (2, 1), (1, 1)]"
            ]
          },
          "metadata": {},
          "execution_count": 15
        }
      ]
    },
    {
      "cell_type": "markdown",
      "source": [
        "**The elements are treated with their position, index not what value the index contains, hence must pass unique values**"
      ],
      "metadata": {
        "id": "c0tp0NCl2FUg"
      }
    },
    {
      "cell_type": "markdown",
      "source": [
        "If we want to make a combination of the same element to the same element then we use combinations_with_replacement. "
      ],
      "metadata": {
        "id": "S2CsONh12Scn"
      }
    },
    {
      "cell_type": "code",
      "source": [
        "from itertools import combinations_with_replacement \n",
        "list(combinations_with_replacement([1, 2, 3], 2) )"
      ],
      "metadata": {
        "colab": {
          "base_uri": "https://localhost:8080/"
        },
        "id": "Dmy1noaU2ECk",
        "outputId": "8e81318e-9d6d-4094-bfae-37d2aa8afb12"
      },
      "execution_count": 17,
      "outputs": [
        {
          "output_type": "execute_result",
          "data": {
            "text/plain": [
              "[(1, 1), (1, 2), (1, 3), (2, 2), (2, 3), (3, 3)]"
            ]
          },
          "metadata": {},
          "execution_count": 17
        }
      ]
    },
    {
      "cell_type": "code",
      "source": [
        "[p for p in permutations('bag')]"
      ],
      "metadata": {
        "colab": {
          "base_uri": "https://localhost:8080/"
        },
        "id": "sO0ad4v32VWH",
        "outputId": "ef44c9af-93c1-4f22-debb-bea233257029"
      },
      "execution_count": 19,
      "outputs": [
        {
          "output_type": "execute_result",
          "data": {
            "text/plain": [
              "[('b', 'a', 'g'),\n",
              " ('b', 'g', 'a'),\n",
              " ('a', 'b', 'g'),\n",
              " ('a', 'g', 'b'),\n",
              " ('g', 'b', 'a'),\n",
              " ('g', 'a', 'b')]"
            ]
          },
          "metadata": {},
          "execution_count": 19
        }
      ]
    },
    {
      "cell_type": "code",
      "source": [
        "[\"\".join(p) for p in permutations('bag')]"
      ],
      "metadata": {
        "colab": {
          "base_uri": "https://localhost:8080/"
        },
        "id": "uiIlHF0e2vDI",
        "outputId": "2e9ad383-34d0-4842-bf10-452bb17cb36e"
      },
      "execution_count": 20,
      "outputs": [
        {
          "output_type": "execute_result",
          "data": {
            "text/plain": [
              "['bag', 'bga', 'abg', 'agb', 'gba', 'gab']"
            ]
          },
          "metadata": {},
          "execution_count": 20
        }
      ]
    },
    {
      "cell_type": "markdown",
      "source": [
        "ZIP()"
      ],
      "metadata": {
        "id": "m-P4W1yJ3W7l"
      }
    },
    {
      "cell_type": "code",
      "source": [
        "l = ['Java', 'Python', 'JavScript']\n",
        "v = [14, 3, 6]\n",
        "k = ['A', 'B', 'C']\n",
        "\n",
        "result = zip(l, v, k)\n",
        "print(list(result))"
      ],
      "metadata": {
        "colab": {
          "base_uri": "https://localhost:8080/"
        },
        "id": "jQJUoe4t24Ky",
        "outputId": "25a3fa08-3a3e-459e-96e0-768feb42f521"
      },
      "execution_count": 24,
      "outputs": [
        {
          "output_type": "stream",
          "name": "stdout",
          "text": [
            "[('Java', 14, 'A'), ('Python', 3, 'B'), ('JavScript', 6, 'C')]\n"
          ]
        }
      ]
    },
    {
      "cell_type": "code",
      "source": [
        "x, y,z = zip(*list(result))\n",
        "print(\"x: \", x)\n",
        "print(\"y: \", y)\n",
        "print(\"z: \", z)\n"
      ],
      "metadata": {
        "colab": {
          "base_uri": "https://localhost:8080/",
          "height": 218
        },
        "id": "iwCI6yCM4fM8",
        "outputId": "5e263963-cd9c-4706-87ce-1b036878eecb"
      },
      "execution_count": 29,
      "outputs": [
        {
          "output_type": "error",
          "ename": "ValueError",
          "evalue": "ignored",
          "traceback": [
            "\u001b[0;31m---------------------------------------------------------------------------\u001b[0m",
            "\u001b[0;31mValueError\u001b[0m                                Traceback (most recent call last)",
            "\u001b[0;32m<ipython-input-29-62011efacea2>\u001b[0m in \u001b[0;36m<module>\u001b[0;34m\u001b[0m\n\u001b[0;32m----> 1\u001b[0;31m \u001b[0mx\u001b[0m\u001b[0;34m,\u001b[0m \u001b[0my\u001b[0m\u001b[0;34m,\u001b[0m\u001b[0mz\u001b[0m \u001b[0;34m=\u001b[0m \u001b[0mzip\u001b[0m\u001b[0;34m(\u001b[0m\u001b[0;34m*\u001b[0m\u001b[0mlist\u001b[0m\u001b[0;34m(\u001b[0m\u001b[0mresult\u001b[0m\u001b[0;34m)\u001b[0m\u001b[0;34m)\u001b[0m\u001b[0;34m\u001b[0m\u001b[0;34m\u001b[0m\u001b[0m\n\u001b[0m\u001b[1;32m      2\u001b[0m \u001b[0mprint\u001b[0m\u001b[0;34m(\u001b[0m\u001b[0;34m\"x: \"\u001b[0m\u001b[0;34m,\u001b[0m \u001b[0mx\u001b[0m\u001b[0;34m)\u001b[0m\u001b[0;34m\u001b[0m\u001b[0;34m\u001b[0m\u001b[0m\n\u001b[1;32m      3\u001b[0m \u001b[0mprint\u001b[0m\u001b[0;34m(\u001b[0m\u001b[0;34m\"y: \"\u001b[0m\u001b[0;34m,\u001b[0m \u001b[0my\u001b[0m\u001b[0;34m)\u001b[0m\u001b[0;34m\u001b[0m\u001b[0;34m\u001b[0m\u001b[0m\n\u001b[1;32m      4\u001b[0m \u001b[0mprint\u001b[0m\u001b[0;34m(\u001b[0m\u001b[0;34m\"z: \"\u001b[0m\u001b[0;34m,\u001b[0m \u001b[0mz\u001b[0m\u001b[0;34m)\u001b[0m\u001b[0;34m\u001b[0m\u001b[0;34m\u001b[0m\u001b[0m\n",
            "\u001b[0;31mValueError\u001b[0m: not enough values to unpack (expected 3, got 0)"
          ]
        }
      ]
    },
    {
      "cell_type": "code",
      "source": [
        "coordinate = ['x', 'y', 'z']\n",
        "value = [3, 4, 5]\n",
        "\n",
        "result = zip(coordinate, value)\n",
        "result_list = list(result)\n",
        "print(result_list)\n",
        "\n",
        "c, v =  zip(*result_list)\n",
        "print('c =', c)\n",
        "print('v =', v)"
      ],
      "metadata": {
        "colab": {
          "base_uri": "https://localhost:8080/"
        },
        "id": "ECi8He6JDpGC",
        "outputId": "d62c5636-05da-417f-ebed-7955e79b7f74"
      },
      "execution_count": 30,
      "outputs": [
        {
          "output_type": "stream",
          "name": "stdout",
          "text": [
            "[('x', 3), ('y', 4), ('z', 5)]\n",
            "c = ('x', 'y', 'z')\n",
            "v = (3, 4, 5)\n"
          ]
        }
      ]
    },
    {
      "cell_type": "code",
      "source": [
        "l = ['Java', 'Python', 'JavScript']\n",
        "v = [14, 3, 6]\n",
        "k = ['A', 'B', 'C']\n",
        "\n",
        "result = list(zip(l, v, k))\n",
        "print(result)\n",
        "\n",
        "x, y,z = zip(*result)\n",
        "print(\"x: \", x)\n",
        "print(\"y: \", y)\n",
        "print(\"z: \", z)"
      ],
      "metadata": {
        "colab": {
          "base_uri": "https://localhost:8080/"
        },
        "id": "pP6AzUtjD_KP",
        "outputId": "0eba53c3-db57-430f-a0cc-b72a7f4f2c7c"
      },
      "execution_count": 32,
      "outputs": [
        {
          "output_type": "stream",
          "name": "stdout",
          "text": [
            "[('Java', 14, 'A'), ('Python', 3, 'B'), ('JavScript', 6, 'C')]\n",
            "x:  ('Java', 'Python', 'JavScript')\n",
            "y:  (14, 3, 6)\n",
            "z:  ('A', 'B', 'C')\n"
          ]
        }
      ]
    },
    {
      "cell_type": "markdown",
      "source": [
        "Permutation using List Comprehension"
      ],
      "metadata": {
        "id": "utbiHYfeH81e"
      }
    },
    {
      "cell_type": "code",
      "source": [
        "[[i,j,k] for i in [1,2,3] for j in [1,2,3] for k in [1,2,3]]"
      ],
      "metadata": {
        "colab": {
          "base_uri": "https://localhost:8080/"
        },
        "id": "NAyJS-VYEE2q",
        "outputId": "73ce6dcd-0a0d-431c-a361-0ebb5be8b31d"
      },
      "execution_count": 34,
      "outputs": [
        {
          "output_type": "execute_result",
          "data": {
            "text/plain": [
              "[[1, 1, 1],\n",
              " [1, 1, 2],\n",
              " [1, 1, 3],\n",
              " [1, 2, 1],\n",
              " [1, 2, 2],\n",
              " [1, 2, 3],\n",
              " [1, 3, 1],\n",
              " [1, 3, 2],\n",
              " [1, 3, 3],\n",
              " [2, 1, 1],\n",
              " [2, 1, 2],\n",
              " [2, 1, 3],\n",
              " [2, 2, 1],\n",
              " [2, 2, 2],\n",
              " [2, 2, 3],\n",
              " [2, 3, 1],\n",
              " [2, 3, 2],\n",
              " [2, 3, 3],\n",
              " [3, 1, 1],\n",
              " [3, 1, 2],\n",
              " [3, 1, 3],\n",
              " [3, 2, 1],\n",
              " [3, 2, 2],\n",
              " [3, 2, 3],\n",
              " [3, 3, 1],\n",
              " [3, 3, 2],\n",
              " [3, 3, 3]]"
            ]
          },
          "metadata": {},
          "execution_count": 34
        }
      ]
    },
    {
      "cell_type": "code",
      "source": [
        "[[i,j] for i in [1,2,3] for j in [1,2,3] ]"
      ],
      "metadata": {
        "colab": {
          "base_uri": "https://localhost:8080/"
        },
        "id": "rJNtnImtFyCY",
        "outputId": "11a752ad-8695-4ef8-90b5-18a77d7d60c0"
      },
      "execution_count": 35,
      "outputs": [
        {
          "output_type": "execute_result",
          "data": {
            "text/plain": [
              "[[1, 1], [1, 2], [1, 3], [2, 1], [2, 2], [2, 3], [3, 1], [3, 2], [3, 3]]"
            ]
          },
          "metadata": {},
          "execution_count": 35
        }
      ]
    },
    {
      "cell_type": "markdown",
      "source": [
        "Combination using List Comprehension"
      ],
      "metadata": {
        "id": "TpF3bfdVH_8T"
      }
    },
    {
      "cell_type": "code",
      "source": [
        "[[i,j] for i in [1,2,3] for j in [1,2,3] if (i!=j)]"
      ],
      "metadata": {
        "colab": {
          "base_uri": "https://localhost:8080/"
        },
        "id": "w7-tlcdnH3TZ",
        "outputId": "370e5a3a-0529-4f97-e758-096a0ee4f740"
      },
      "execution_count": 38,
      "outputs": [
        {
          "output_type": "execute_result",
          "data": {
            "text/plain": [
              "[[1, 2], [1, 3], [2, 1], [2, 3], [3, 1], [3, 2]]"
            ]
          },
          "metadata": {},
          "execution_count": 38
        }
      ]
    },
    {
      "cell_type": "code",
      "source": [
        "#ANOTHER WAY IS TO USE SET\n",
        "[{i,j} for i in [1,2,3] for j in [1,2,3]]"
      ],
      "metadata": {
        "colab": {
          "base_uri": "https://localhost:8080/"
        },
        "id": "N2QBrhkvICvx",
        "outputId": "691ce7ab-f662-4ea8-fc53-776490092617"
      },
      "execution_count": 39,
      "outputs": [
        {
          "output_type": "execute_result",
          "data": {
            "text/plain": [
              "[{1}, {1, 2}, {1, 3}, {1, 2}, {2}, {2, 3}, {1, 3}, {2, 3}, {3}]"
            ]
          },
          "metadata": {},
          "execution_count": 39
        }
      ]
    },
    {
      "cell_type": "markdown",
      "source": [
        "*Need to remove sets with one item if sets are used*"
      ],
      "metadata": {
        "id": "bpT5LwGOIQCu"
      }
    },
    {
      "cell_type": "code",
      "source": [
        "s = \"sky is blue\"\n",
        "l = s.split()\n",
        "\n",
        "print([\" \".join([i,j,k]) for i in l for j in l for k in l if (i!=j and i!=k and j!=k)])"
      ],
      "metadata": {
        "colab": {
          "base_uri": "https://localhost:8080/"
        },
        "id": "uPG4f21rGRA1",
        "outputId": "b0ab1317-cb2b-4347-91ef-59d8b1dd6a0f"
      },
      "execution_count": 37,
      "outputs": [
        {
          "output_type": "stream",
          "name": "stdout",
          "text": [
            "['sky is blue', 'sky blue is', 'is sky blue', 'is blue sky', 'blue sky is', 'blue is sky']\n"
          ]
        }
      ]
    },
    {
      "cell_type": "code",
      "source": [],
      "metadata": {
        "id": "AoRYAKLoHAdX"
      },
      "execution_count": null,
      "outputs": []
    }
  ]
}